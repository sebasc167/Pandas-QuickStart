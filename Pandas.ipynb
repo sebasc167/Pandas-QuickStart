{
  "nbformat": 4,
  "nbformat_minor": 0,
  "metadata": {
    "colab": {
      "name": "Pandas.ipynb",
      "provenance": [],
      "collapsed_sections": [],
      "toc_visible": true
    },
    "kernelspec": {
      "name": "python3",
      "display_name": "Python 3"
    },
    "language_info": {
      "name": "python"
    }
  },
  "cells": [
    {
      "cell_type": "markdown",
      "metadata": {
        "id": "4hqMglFDu3tv"
      },
      "source": [
        "#**Pandas**\n",
        "\n",
        "It's a library that is used for big data analysis and the name Pandas comes from \"Python Data Analysis Library\" so first import pandas"
      ]
    },
    {
      "cell_type": "code",
      "metadata": {
        "id": "yg5VX28Au1sS"
      },
      "source": [
        "import pandas as pd"
      ],
      "execution_count": null,
      "outputs": []
    },
    {
      "cell_type": "markdown",
      "metadata": {
        "id": "WddZT_rdve5V"
      },
      "source": [
        "##Series\n",
        "\n",
        "Firstly, we need to talk about some of the building blocks in Pandas and the first one discussed is Series\n",
        "\n",
        "Series are like arrays, 1 dimensional data that normally represents a column in a dataset"
      ]
    },
    {
      "cell_type": "code",
      "metadata": {
        "colab": {
          "base_uri": "https://localhost:8080/"
        },
        "id": "O95-SxzEzWhI",
        "outputId": "1125e96c-a71b-4651-b5b5-2add8198d272"
      },
      "source": [
        "#Making a basic series\n",
        "#this is just like np.array([some array])\n",
        "\n",
        "a = pd.Series([1,2,3],dtype='int8')\n",
        "print(a)\n",
        "print(a[0])"
      ],
      "execution_count": null,
      "outputs": [
        {
          "output_type": "stream",
          "name": "stdout",
          "text": [
            "0    1\n",
            "1    2\n",
            "2    3\n",
            "dtype: int8\n",
            "1\n"
          ]
        }
      ]
    },
    {
      "cell_type": "markdown",
      "metadata": {
        "id": "aK7KDHUUz2hZ"
      },
      "source": [
        "As seen above, just like with normal arrays the data above or the series above has indices which by default start at 0, just like arrays or lists.\n",
        "\n",
        "However the index for the Series can be customized and we can specify that with the index = parameter in pd.Series as such..."
      ]
    },
    {
      "cell_type": "code",
      "metadata": {
        "colab": {
          "base_uri": "https://localhost:8080/"
        },
        "id": "2GyxwB130Ojs",
        "outputId": "98bd658f-94aa-4643-cf80-fa699012cab9"
      },
      "source": [
        "a = pd.Series([1,45,73,20],dtype='int8',index=['a','b','c','d'],name=\"my first\")\n",
        "print(a)"
      ],
      "execution_count": null,
      "outputs": [
        {
          "output_type": "stream",
          "name": "stdout",
          "text": [
            "a     1\n",
            "b    45\n",
            "c    73\n",
            "d    20\n",
            "Name: my first, dtype: int8\n"
          ]
        }
      ]
    },
    {
      "cell_type": "markdown",
      "metadata": {
        "id": "5w9nd5qP0b4Y"
      },
      "source": [
        "As seen above the index parameter is another list that MUST be of the same size as the Series, but each individual index can be the same or different.\n",
        "\n",
        "Now we can access the values as if we were accessing a dictionary!!\n",
        "\n",
        "---\n",
        "\n"
      ]
    },
    {
      "cell_type": "code",
      "metadata": {
        "colab": {
          "base_uri": "https://localhost:8080/"
        },
        "id": "MOYPuE9f0x45",
        "outputId": "3fc82c62-3547-4956-f3bb-edc497a7fd1f"
      },
      "source": [
        "print(a[0])\n",
        "##Or print the specific index name to get the value\n",
        "print(a['b'])\n",
        "print(f'I am printing the name of the array a as: {a.name}')"
      ],
      "execution_count": null,
      "outputs": [
        {
          "output_type": "stream",
          "name": "stdout",
          "text": [
            "1\n",
            "45\n",
            "I am printing the name of the array a as: my first\n"
          ]
        }
      ]
    },
    {
      "cell_type": "markdown",
      "metadata": {
        "id": "sL-oJRx-02Vv"
      },
      "source": [
        "But dont worry, we can still access the values using the classic numerical indices and we can access the name of the series with the: name method"
      ]
    },
    {
      "cell_type": "markdown",
      "metadata": {
        "id": "SFNfaLys1jTv"
      },
      "source": [
        "##Parameters\n",
        "\n",
        "* name = 'Name of array given'\n",
        "* dtype = 'int8' - size and type stored\n",
        "* index = [list of index names]\n",
        "* copy = boolean, by default false\n",
        "* data - can be a list or a dictionray with the keys being the indices and the values, the value at each index"
      ]
    },
    {
      "cell_type": "code",
      "metadata": {
        "colab": {
          "base_uri": "https://localhost:8080/"
        },
        "id": "9DssstIE2KlM",
        "outputId": "f0a74408-acc4-4b99-83a9-a44507d16d8e"
      },
      "source": [
        "a = {'red':3,'blue':5,'green':9}\n",
        "a = pd.Series(a)\n",
        "print(a)"
      ],
      "execution_count": null,
      "outputs": [
        {
          "output_type": "stream",
          "name": "stdout",
          "text": [
            "red      3\n",
            "blue     5\n",
            "green    9\n",
            "dtype: int64\n"
          ]
        }
      ]
    },
    {
      "cell_type": "code",
      "metadata": {
        "colab": {
          "base_uri": "https://localhost:8080/"
        },
        "id": "_yAxeRVJ2bHl",
        "outputId": "9a0ae0cb-70b2-4b2f-d34e-87f7220f17fd"
      },
      "source": [
        "#We could limit the numbers of rows by setting\n",
        "#indices that purposely exclude certain rows\n",
        "a = pd.Series(a,index=['red'])\n",
        "print(a)"
      ],
      "execution_count": null,
      "outputs": [
        {
          "output_type": "execute_result",
          "data": {
            "text/plain": [
              "red    3\n",
              "dtype: int64"
            ]
          },
          "metadata": {},
          "execution_count": 20
        }
      ]
    },
    {
      "cell_type": "markdown",
      "metadata": {
        "id": "CYba43Hx2ufi"
      },
      "source": [
        "##DataFrames\n",
        "\n",
        "DataFrames are literally like tables of data, except that they are made from dictionaries."
      ]
    },
    {
      "cell_type": "code",
      "metadata": {
        "colab": {
          "base_uri": "https://localhost:8080/"
        },
        "id": "d_q0nqaP2tsv",
        "outputId": "b5a08054-b509-4209-fdfb-a5e2d36c6372"
      },
      "source": [
        "#courtesy of W3Schools\n",
        "data = {\n",
        "  \"calories\": [420, 380, 390],\n",
        "  \"duration\": [50, 40, 45]\n",
        "}\n",
        "\n",
        "dframe = pd.DataFrame(data,index=[1,2,3])\n",
        "\n",
        "print(dframe)"
      ],
      "execution_count": null,
      "outputs": [
        {
          "output_type": "stream",
          "name": "stdout",
          "text": [
            "   calories  duration\n",
            "1       420        50\n",
            "2       380        40\n",
            "3       390        45\n"
          ]
        }
      ]
    },
    {
      "cell_type": "markdown",
      "metadata": {
        "id": "k6PaBrhG3LmW"
      },
      "source": [
        "As seen above the 2-D dataframe is printed and the column heading are the dictionary keys and the values are the data in the table. As usual, since indices are not specified. Each row is represented as a number starting at 0"
      ]
    },
    {
      "cell_type": "markdown",
      "metadata": {
        "id": "R24tPr4q3fP2"
      },
      "source": [
        "##Parameters\n",
        "\n",
        "* index = [list of indices]\n",
        "* dtype = 'int32' - by default\n",
        "\n",
        "Some others but aren't too practical"
      ]
    },
    {
      "cell_type": "markdown",
      "metadata": {
        "id": "pzINb0fNM0DS"
      },
      "source": [
        "###Column Prints\n",
        "\n",
        "We can print out specific columns by saying:\n",
        "\n",
        "df['some column'] with the print function"
      ]
    },
    {
      "cell_type": "markdown",
      "metadata": {
        "id": "PotQ5WZB4tys"
      },
      "source": [
        "##Loading CSV data\n",
        "\n",
        "So we might want to actually work with some data so we have to read the data in and turn it into a good format so lets try that out with the red_csv method"
      ]
    },
    {
      "cell_type": "code",
      "metadata": {
        "id": "vEJHaGkE45Nb"
      },
      "source": [
        "try:\n",
        "  dataframe = pd.read_csv('data.csv') #this will read data from a CSV file\n",
        "  dataframe.to_string() #this will print the entire dataset\n",
        "except Exception:\n",
        "  print(\"I/O Exception for sure\")"
      ],
      "execution_count": null,
      "outputs": []
    },
    {
      "cell_type": "markdown",
      "metadata": {
        "id": "Ol1g0jB45mxE"
      },
      "source": [
        "##Loading JSON data"
      ]
    },
    {
      "cell_type": "markdown",
      "metadata": {
        "id": "W2_GTPXo5tMU"
      },
      "source": [
        "Sometimes data is actually found in a json file instead so we can use the same technique like before but with the json files\n",
        "\n",
        "I would like to remind the reader that we can actually use a dictionary of dictionaries to use as data since JSOn files are actually python dictionaries in disguise"
      ]
    },
    {
      "cell_type": "code",
      "metadata": {
        "colab": {
          "base_uri": "https://localhost:8080/"
        },
        "id": "IW0dzpts6Lz5",
        "outputId": "de465b8c-e029-4b7c-8b67-6118be3abaf7"
      },
      "source": [
        "try:\n",
        "  dataframe = pd.read_csv('data.json') #this will read data from a json file\n",
        "  dataframe.to_string() #this will print the entire dataset\n",
        "except Exception:\n",
        "  print(\"I/O Exception for sure\")\n",
        "\n",
        "data = {\n",
        "  \"Duration\":{\n",
        "    \"0\":60,\n",
        "    \"1\":60,\n",
        "    \"2\":60,\n",
        "    \"3\":45,\n",
        "    \"4\":45,\n",
        "    \"5\":60\n",
        "  },\n",
        "  \"Pulse\":{\n",
        "    \"0\":110,\n",
        "    \"1\":117,\n",
        "    \"2\":103,\n",
        "    \"3\":109,\n",
        "    \"4\":117,\n",
        "    \"5\":102\n",
        "  },\n",
        "  \"Maxpulse\":{\n",
        "    \"0\":130,\n",
        "    \"1\":145,\n",
        "    \"2\":135,\n",
        "    \"3\":175,\n",
        "    \"4\":148,\n",
        "    \"5\":127\n",
        "  },\n",
        "  \"Calories\":{\n",
        "    \"0\":409,\n",
        "    \"1\":479,\n",
        "    \"2\":340,\n",
        "    \"3\":282,\n",
        "    \"4\":406,\n",
        "    \"5\":300\n",
        "  }\n",
        "}\n",
        "\n",
        "a = pd.DataFrame(data)\n",
        "#print(a.to_latex()) ##does it latex style\n",
        "print(a.to_string())"
      ],
      "execution_count": null,
      "outputs": [
        {
          "output_type": "stream",
          "name": "stdout",
          "text": [
            "I/O Exception for sure\n",
            "   Duration  Pulse  Maxpulse  Calories\n",
            "0        60    110       130       409\n",
            "1        60    117       145       479\n",
            "2        60    103       135       340\n",
            "3        45    109       175       282\n",
            "4        45    117       148       406\n",
            "5        60    102       127       300\n"
          ]
        }
      ]
    },
    {
      "cell_type": "markdown",
      "metadata": {
        "id": "eUsoIYKr7ir5"
      },
      "source": [
        "##Viewing Data\n",
        "\n",
        "There are many ways to view the whole dataset or pieces of it but we can use the to_string() method or the head(rows) method\n",
        "\n",
        "data.head(#rows to view) - view n rows or by default the first 5 rows"
      ]
    },
    {
      "cell_type": "markdown",
      "metadata": {
        "id": "qVlSD6_5-2nR"
      },
      "source": [
        "###Head method"
      ]
    },
    {
      "cell_type": "code",
      "metadata": {
        "colab": {
          "base_uri": "https://localhost:8080/",
          "height": 234
        },
        "id": "QqgvSh0c78xh",
        "outputId": "30a1e62e-9cfd-40e1-e7ec-9b3fbf07355d"
      },
      "source": [
        "import numpy\n",
        "d = pd.DataFrame(a)\n",
        "d.head(6)  #whole set or a n number of rows\n",
        "#if you exceed the total number of rows it will print the whole thing and ignore the input extra"
      ],
      "execution_count": null,
      "outputs": [
        {
          "output_type": "execute_result",
          "data": {
            "text/html": [
              "<div>\n",
              "<style scoped>\n",
              "    .dataframe tbody tr th:only-of-type {\n",
              "        vertical-align: middle;\n",
              "    }\n",
              "\n",
              "    .dataframe tbody tr th {\n",
              "        vertical-align: top;\n",
              "    }\n",
              "\n",
              "    .dataframe thead th {\n",
              "        text-align: right;\n",
              "    }\n",
              "</style>\n",
              "<table border=\"1\" class=\"dataframe\">\n",
              "  <thead>\n",
              "    <tr style=\"text-align: right;\">\n",
              "      <th></th>\n",
              "      <th>Duration</th>\n",
              "      <th>Pulse</th>\n",
              "      <th>Maxpulse</th>\n",
              "      <th>Calories</th>\n",
              "    </tr>\n",
              "  </thead>\n",
              "  <tbody>\n",
              "    <tr>\n",
              "      <th>0</th>\n",
              "      <td>60</td>\n",
              "      <td>110</td>\n",
              "      <td>130</td>\n",
              "      <td>409</td>\n",
              "    </tr>\n",
              "    <tr>\n",
              "      <th>1</th>\n",
              "      <td>60</td>\n",
              "      <td>117</td>\n",
              "      <td>145</td>\n",
              "      <td>479</td>\n",
              "    </tr>\n",
              "    <tr>\n",
              "      <th>2</th>\n",
              "      <td>60</td>\n",
              "      <td>103</td>\n",
              "      <td>135</td>\n",
              "      <td>340</td>\n",
              "    </tr>\n",
              "    <tr>\n",
              "      <th>3</th>\n",
              "      <td>45</td>\n",
              "      <td>109</td>\n",
              "      <td>175</td>\n",
              "      <td>282</td>\n",
              "    </tr>\n",
              "    <tr>\n",
              "      <th>4</th>\n",
              "      <td>45</td>\n",
              "      <td>117</td>\n",
              "      <td>148</td>\n",
              "      <td>406</td>\n",
              "    </tr>\n",
              "    <tr>\n",
              "      <th>5</th>\n",
              "      <td>60</td>\n",
              "      <td>102</td>\n",
              "      <td>127</td>\n",
              "      <td>300</td>\n",
              "    </tr>\n",
              "  </tbody>\n",
              "</table>\n",
              "</div>"
            ],
            "text/plain": [
              "   Duration  Pulse  Maxpulse  Calories\n",
              "0        60    110       130       409\n",
              "1        60    117       145       479\n",
              "2        60    103       135       340\n",
              "3        45    109       175       282\n",
              "4        45    117       148       406\n",
              "5        60    102       127       300"
            ]
          },
          "metadata": {},
          "execution_count": 71
        }
      ]
    },
    {
      "cell_type": "markdown",
      "metadata": {
        "id": "9xPj2Ekt-68n"
      },
      "source": [
        "###Tail Method"
      ]
    },
    {
      "cell_type": "markdown",
      "metadata": {
        "id": "r2VG4yo88-Yz"
      },
      "source": [
        "We can view the first n rows with d.head(5)\n",
        "\n",
        "We can view the LAST n rows with d.tail()"
      ]
    },
    {
      "cell_type": "code",
      "metadata": {
        "colab": {
          "base_uri": "https://localhost:8080/",
          "height": 142
        },
        "id": "i-2xvxfa9HCs",
        "outputId": "c8e45ffd-b390-494e-f83d-cbcb7eef36dd"
      },
      "source": [
        "d.tail(3)"
      ],
      "execution_count": null,
      "outputs": [
        {
          "output_type": "execute_result",
          "data": {
            "text/html": [
              "<div>\n",
              "<style scoped>\n",
              "    .dataframe tbody tr th:only-of-type {\n",
              "        vertical-align: middle;\n",
              "    }\n",
              "\n",
              "    .dataframe tbody tr th {\n",
              "        vertical-align: top;\n",
              "    }\n",
              "\n",
              "    .dataframe thead th {\n",
              "        text-align: right;\n",
              "    }\n",
              "</style>\n",
              "<table border=\"1\" class=\"dataframe\">\n",
              "  <thead>\n",
              "    <tr style=\"text-align: right;\">\n",
              "      <th></th>\n",
              "      <th>Duration</th>\n",
              "      <th>Pulse</th>\n",
              "      <th>Maxpulse</th>\n",
              "      <th>Calories</th>\n",
              "    </tr>\n",
              "  </thead>\n",
              "  <tbody>\n",
              "    <tr>\n",
              "      <th>3</th>\n",
              "      <td>45</td>\n",
              "      <td>109</td>\n",
              "      <td>175</td>\n",
              "      <td>282</td>\n",
              "    </tr>\n",
              "    <tr>\n",
              "      <th>4</th>\n",
              "      <td>45</td>\n",
              "      <td>117</td>\n",
              "      <td>148</td>\n",
              "      <td>406</td>\n",
              "    </tr>\n",
              "    <tr>\n",
              "      <th>5</th>\n",
              "      <td>60</td>\n",
              "      <td>102</td>\n",
              "      <td>127</td>\n",
              "      <td>300</td>\n",
              "    </tr>\n",
              "  </tbody>\n",
              "</table>\n",
              "</div>"
            ],
            "text/plain": [
              "   Duration  Pulse  Maxpulse  Calories\n",
              "3        45    109       175       282\n",
              "4        45    117       148       406\n",
              "5        60    102       127       300"
            ]
          },
          "metadata": {},
          "execution_count": 63
        }
      ]
    },
    {
      "cell_type": "markdown",
      "metadata": {
        "id": "Ppm3rFF1--ye"
      },
      "source": [
        "###Count Method"
      ]
    },
    {
      "cell_type": "code",
      "metadata": {
        "colab": {
          "base_uri": "https://localhost:8080/"
        },
        "id": "NKDh3X8O-uBF",
        "outputId": "bf4d4565-ea74-4173-a321-e35b594ab020"
      },
      "source": [
        "d.count() #basically we count the number of rows for all columns"
      ],
      "execution_count": null,
      "outputs": [
        {
          "output_type": "execute_result",
          "data": {
            "text/plain": [
              "Duration    6\n",
              "Pulse       6\n",
              "Maxpulse    6\n",
              "Calories    6\n",
              "dtype: int64"
            ]
          },
          "metadata": {},
          "execution_count": 72
        }
      ]
    },
    {
      "cell_type": "markdown",
      "metadata": {
        "id": "I_atybFe_PtZ"
      },
      "source": [
        "###Info on Data\n",
        "\n",
        "Try the .info() method on any created DataFrame"
      ]
    },
    {
      "cell_type": "markdown",
      "metadata": {
        "id": "3s90cjGw_cdc"
      },
      "source": [
        "##Cleaning Data\n",
        "\n",
        "So now we have to learn to clean our data because data is never clean or perfect when it is first given to us and a solid chunk of the job for a data scientist is the clean up of the data. \n",
        "\n",
        "Some of the ways data comes in dirty is:\n",
        "\n",
        "* empty cells\n",
        "* data is formatted incorrectly\n",
        "* Wrong data\n",
        "* Duplicates"
      ]
    },
    {
      "cell_type": "markdown",
      "metadata": {
        "id": "-VSvhTyTG1ub"
      },
      "source": [
        "Now I will explain how to deal with the 4 types of situations in order\n",
        "\n",
        "Firstly, lets import this data to play with it "
      ]
    },
    {
      "cell_type": "code",
      "metadata": {
        "colab": {
          "base_uri": "https://localhost:8080/",
          "height": 511
        },
        "id": "VW1-qgdJI2s8",
        "outputId": "0f02eb84-77ed-4ad2-86c9-a90d07d4cd27"
      },
      "source": [
        "df = pd.read_csv('soccerteam.csv')\n",
        "df.head(15)"
      ],
      "execution_count": null,
      "outputs": [
        {
          "output_type": "execute_result",
          "data": {
            "text/html": [
              "<div>\n",
              "<style scoped>\n",
              "    .dataframe tbody tr th:only-of-type {\n",
              "        vertical-align: middle;\n",
              "    }\n",
              "\n",
              "    .dataframe tbody tr th {\n",
              "        vertical-align: top;\n",
              "    }\n",
              "\n",
              "    .dataframe thead th {\n",
              "        text-align: right;\n",
              "    }\n",
              "</style>\n",
              "<table border=\"1\" class=\"dataframe\">\n",
              "  <thead>\n",
              "    <tr style=\"text-align: right;\">\n",
              "      <th></th>\n",
              "      <th>Score</th>\n",
              "      <th>Name</th>\n",
              "      <th>Division</th>\n",
              "      <th>Players</th>\n",
              "      <th>Position</th>\n",
              "    </tr>\n",
              "  </thead>\n",
              "  <tbody>\n",
              "    <tr>\n",
              "      <th>0</th>\n",
              "      <td>10.0</td>\n",
              "      <td>tim</td>\n",
              "      <td>1</td>\n",
              "      <td>12</td>\n",
              "      <td>forward</td>\n",
              "    </tr>\n",
              "    <tr>\n",
              "      <th>1</th>\n",
              "      <td>6.0</td>\n",
              "      <td>jim</td>\n",
              "      <td>2</td>\n",
              "      <td>26</td>\n",
              "      <td>center</td>\n",
              "    </tr>\n",
              "    <tr>\n",
              "      <th>2</th>\n",
              "      <td>NaN</td>\n",
              "      <td>kim</td>\n",
              "      <td>3</td>\n",
              "      <td>25</td>\n",
              "      <td>goalie</td>\n",
              "    </tr>\n",
              "    <tr>\n",
              "      <th>3</th>\n",
              "      <td>5.0</td>\n",
              "      <td>pam</td>\n",
              "      <td>one</td>\n",
              "      <td>12</td>\n",
              "      <td>center</td>\n",
              "    </tr>\n",
              "    <tr>\n",
              "      <th>4</th>\n",
              "      <td>8.0</td>\n",
              "      <td>tom</td>\n",
              "      <td>2</td>\n",
              "      <td>15</td>\n",
              "      <td>backfield</td>\n",
              "    </tr>\n",
              "    <tr>\n",
              "      <th>5</th>\n",
              "      <td>12.0</td>\n",
              "      <td>timmy</td>\n",
              "      <td>3</td>\n",
              "      <td>19</td>\n",
              "      <td>forward</td>\n",
              "    </tr>\n",
              "    <tr>\n",
              "      <th>6</th>\n",
              "      <td>1.0</td>\n",
              "      <td>bob</td>\n",
              "      <td>3</td>\n",
              "      <td>17</td>\n",
              "      <td>center</td>\n",
              "    </tr>\n",
              "    <tr>\n",
              "      <th>7</th>\n",
              "      <td>2.0</td>\n",
              "      <td>billy</td>\n",
              "      <td>2</td>\n",
              "      <td>21</td>\n",
              "      <td>goalie</td>\n",
              "    </tr>\n",
              "    <tr>\n",
              "      <th>8</th>\n",
              "      <td>5.0</td>\n",
              "      <td>jimbo</td>\n",
              "      <td>NaN</td>\n",
              "      <td>20</td>\n",
              "      <td>center</td>\n",
              "    </tr>\n",
              "    <tr>\n",
              "      <th>9</th>\n",
              "      <td>8.0</td>\n",
              "      <td>fisher</td>\n",
              "      <td>one</td>\n",
              "      <td>12</td>\n",
              "      <td>forward</td>\n",
              "    </tr>\n",
              "    <tr>\n",
              "      <th>10</th>\n",
              "      <td>4.0</td>\n",
              "      <td>sonny</td>\n",
              "      <td>2</td>\n",
              "      <td>30</td>\n",
              "      <td>forward</td>\n",
              "    </tr>\n",
              "    <tr>\n",
              "      <th>11</th>\n",
              "      <td>NaN</td>\n",
              "      <td>seby</td>\n",
              "      <td>3</td>\n",
              "      <td>15</td>\n",
              "      <td>backfield</td>\n",
              "    </tr>\n",
              "    <tr>\n",
              "      <th>12</th>\n",
              "      <td>2.0</td>\n",
              "      <td>matthew</td>\n",
              "      <td>1</td>\n",
              "      <td>9</td>\n",
              "      <td>backfield</td>\n",
              "    </tr>\n",
              "    <tr>\n",
              "      <th>13</th>\n",
              "      <td>4.0</td>\n",
              "      <td>jamela</td>\n",
              "      <td>2</td>\n",
              "      <td>22</td>\n",
              "      <td>goalie</td>\n",
              "    </tr>\n",
              "    <tr>\n",
              "      <th>14</th>\n",
              "      <td>4.0</td>\n",
              "      <td>jamela</td>\n",
              "      <td>2</td>\n",
              "      <td>22</td>\n",
              "      <td>goalie</td>\n",
              "    </tr>\n",
              "  </tbody>\n",
              "</table>\n",
              "</div>"
            ],
            "text/plain": [
              "    Score     Name Division   Players   Position\n",
              "0    10.0      tim         1       12   forward \n",
              "1     6.0      jim         2       26     center\n",
              "2     NaN      kim         3       25     goalie\n",
              "3     5.0      pam       one       12     center\n",
              "4     8.0      tom         2       15  backfield\n",
              "5    12.0    timmy         3       19   forward \n",
              "6     1.0      bob         3       17     center\n",
              "7     2.0    billy         2       21     goalie\n",
              "8     5.0    jimbo       NaN       20     center\n",
              "9     8.0   fisher       one       12   forward \n",
              "10    4.0    sonny         2       30   forward \n",
              "11    NaN     seby         3       15  backfield\n",
              "12    2.0  matthew         1        9  backfield\n",
              "13    4.0   jamela         2       22     goalie\n",
              "14    4.0   jamela         2       22     goalie"
            ]
          },
          "metadata": {},
          "execution_count": 116
        }
      ]
    },
    {
      "cell_type": "markdown",
      "metadata": {
        "id": "f0LmQ1twG9T_"
      },
      "source": [
        "###Empty Cells\n",
        "\n",
        "To deal with empty cells we are looking for rows that dont have values in all column names and normally empty values look like: NaN \n",
        "\n",
        "We can use a specific function that looks for NaN values:\n",
        "\n",
        "datafr.dropna()"
      ]
    },
    {
      "cell_type": "markdown",
      "metadata": {
        "id": "iIVL5IW-MI8W"
      },
      "source": [
        "####Dropna method"
      ]
    },
    {
      "cell_type": "markdown",
      "metadata": {
        "id": "3hfhqNjUHX4O"
      },
      "source": [
        "Parameters:\n",
        "\n",
        "  inplace = boolean value, by default it is false so the method returns the new dataframe modified but if we dont want that and change the original datafram directly we can say:\n",
        "\n",
        "  inplace = true "
      ]
    },
    {
      "cell_type": "code",
      "metadata": {
        "colab": {
          "base_uri": "https://localhost:8080/"
        },
        "id": "80_nfZovHktQ",
        "outputId": "8d613380-c958-458d-9f79-0cedef995058"
      },
      "source": [
        "df_copy = df.dropna(inplace=False)\n",
        "df_copy"
      ],
      "execution_count": null,
      "outputs": [
        {
          "output_type": "execute_result",
          "data": {
            "text/html": [
              "<div>\n",
              "<style scoped>\n",
              "    .dataframe tbody tr th:only-of-type {\n",
              "        vertical-align: middle;\n",
              "    }\n",
              "\n",
              "    .dataframe tbody tr th {\n",
              "        vertical-align: top;\n",
              "    }\n",
              "\n",
              "    .dataframe thead th {\n",
              "        text-align: right;\n",
              "    }\n",
              "</style>\n",
              "<table border=\"1\" class=\"dataframe\">\n",
              "  <thead>\n",
              "    <tr style=\"text-align: right;\">\n",
              "      <th></th>\n",
              "      <th>Score</th>\n",
              "      <th>Name</th>\n",
              "      <th>Division</th>\n",
              "      <th>Players</th>\n",
              "      <th>Position</th>\n",
              "    </tr>\n",
              "  </thead>\n",
              "  <tbody>\n",
              "    <tr>\n",
              "      <th>0</th>\n",
              "      <td>10.0</td>\n",
              "      <td>tim</td>\n",
              "      <td>1</td>\n",
              "      <td>12</td>\n",
              "      <td>forward</td>\n",
              "    </tr>\n",
              "    <tr>\n",
              "      <th>1</th>\n",
              "      <td>6.0</td>\n",
              "      <td>jim</td>\n",
              "      <td>2</td>\n",
              "      <td>26</td>\n",
              "      <td>center</td>\n",
              "    </tr>\n",
              "    <tr>\n",
              "      <th>3</th>\n",
              "      <td>5.0</td>\n",
              "      <td>pam</td>\n",
              "      <td>one</td>\n",
              "      <td>12</td>\n",
              "      <td>center</td>\n",
              "    </tr>\n",
              "    <tr>\n",
              "      <th>4</th>\n",
              "      <td>8.0</td>\n",
              "      <td>tom</td>\n",
              "      <td>2</td>\n",
              "      <td>15</td>\n",
              "      <td>backfield</td>\n",
              "    </tr>\n",
              "    <tr>\n",
              "      <th>5</th>\n",
              "      <td>12.0</td>\n",
              "      <td>timmy</td>\n",
              "      <td>3</td>\n",
              "      <td>19</td>\n",
              "      <td>forward</td>\n",
              "    </tr>\n",
              "    <tr>\n",
              "      <th>6</th>\n",
              "      <td>1.0</td>\n",
              "      <td>bob</td>\n",
              "      <td>3</td>\n",
              "      <td>17</td>\n",
              "      <td>center</td>\n",
              "    </tr>\n",
              "    <tr>\n",
              "      <th>7</th>\n",
              "      <td>2.0</td>\n",
              "      <td>billy</td>\n",
              "      <td>2</td>\n",
              "      <td>21</td>\n",
              "      <td>goalie</td>\n",
              "    </tr>\n",
              "    <tr>\n",
              "      <th>9</th>\n",
              "      <td>8.0</td>\n",
              "      <td>fisher</td>\n",
              "      <td>one</td>\n",
              "      <td>12</td>\n",
              "      <td>forward</td>\n",
              "    </tr>\n",
              "    <tr>\n",
              "      <th>10</th>\n",
              "      <td>4.0</td>\n",
              "      <td>sonny</td>\n",
              "      <td>2</td>\n",
              "      <td>30</td>\n",
              "      <td>forward</td>\n",
              "    </tr>\n",
              "    <tr>\n",
              "      <th>12</th>\n",
              "      <td>2.0</td>\n",
              "      <td>matthew</td>\n",
              "      <td>1</td>\n",
              "      <td>9</td>\n",
              "      <td>backfield</td>\n",
              "    </tr>\n",
              "    <tr>\n",
              "      <th>13</th>\n",
              "      <td>4.0</td>\n",
              "      <td>jamela</td>\n",
              "      <td>2</td>\n",
              "      <td>22</td>\n",
              "      <td>goalie</td>\n",
              "    </tr>\n",
              "    <tr>\n",
              "      <th>14</th>\n",
              "      <td>4.0</td>\n",
              "      <td>jamela</td>\n",
              "      <td>2</td>\n",
              "      <td>22</td>\n",
              "      <td>goalie</td>\n",
              "    </tr>\n",
              "  </tbody>\n",
              "</table>\n",
              "</div>"
            ],
            "text/plain": [
              "    Score     Name Division   Players   Position\n",
              "0    10.0      tim         1       12   forward \n",
              "1     6.0      jim         2       26     center\n",
              "3     5.0      pam       one       12     center\n",
              "4     8.0      tom         2       15  backfield\n",
              "5    12.0    timmy         3       19   forward \n",
              "6     1.0      bob         3       17     center\n",
              "7     2.0    billy         2       21     goalie\n",
              "9     8.0   fisher       one       12   forward \n",
              "10    4.0    sonny         2       30   forward \n",
              "12    2.0  matthew         1        9  backfield\n",
              "13    4.0   jamela         2       22     goalie\n",
              "14    4.0   jamela         2       22     goalie"
            ]
          },
          "metadata": {},
          "execution_count": 117
        }
      ]
    },
    {
      "cell_type": "markdown",
      "metadata": {
        "id": "Z1LuXvAvJ9Vb"
      },
      "source": [
        "For now I set the implace to false so that we get a new dataframe with the NaN values all dropped."
      ]
    },
    {
      "cell_type": "markdown",
      "metadata": {
        "id": "WsMhcWaiMMzO"
      },
      "source": [
        "####Fillna Method"
      ]
    },
    {
      "cell_type": "markdown",
      "metadata": {
        "id": "qKkfoozeKIZK"
      },
      "source": [
        "We can instead fill in the values with a number with the fillna method:\n",
        "\n",
        "fillna(0,inplace=true)\n",
        "\n",
        "Lets try that out for fun with a copy frame:"
      ]
    },
    {
      "cell_type": "code",
      "metadata": {
        "colab": {
          "base_uri": "https://localhost:8080/"
        },
        "id": "vtxriK9QKjOZ",
        "outputId": "495d6b93-6f44-4876-9d44-d5bde3e3fe8d"
      },
      "source": [
        "df_copy2 = df.fillna(0.0,inplace=False)\n",
        "df_copy2"
      ],
      "execution_count": null,
      "outputs": [
        {
          "output_type": "execute_result",
          "data": {
            "text/html": [
              "<div>\n",
              "<style scoped>\n",
              "    .dataframe tbody tr th:only-of-type {\n",
              "        vertical-align: middle;\n",
              "    }\n",
              "\n",
              "    .dataframe tbody tr th {\n",
              "        vertical-align: top;\n",
              "    }\n",
              "\n",
              "    .dataframe thead th {\n",
              "        text-align: right;\n",
              "    }\n",
              "</style>\n",
              "<table border=\"1\" class=\"dataframe\">\n",
              "  <thead>\n",
              "    <tr style=\"text-align: right;\">\n",
              "      <th></th>\n",
              "      <th>Score</th>\n",
              "      <th>Name</th>\n",
              "      <th>Division</th>\n",
              "      <th>Players</th>\n",
              "      <th>Position</th>\n",
              "    </tr>\n",
              "  </thead>\n",
              "  <tbody>\n",
              "    <tr>\n",
              "      <th>0</th>\n",
              "      <td>10.0</td>\n",
              "      <td>tim</td>\n",
              "      <td>1</td>\n",
              "      <td>12</td>\n",
              "      <td>forward</td>\n",
              "    </tr>\n",
              "    <tr>\n",
              "      <th>1</th>\n",
              "      <td>6.0</td>\n",
              "      <td>jim</td>\n",
              "      <td>2</td>\n",
              "      <td>26</td>\n",
              "      <td>center</td>\n",
              "    </tr>\n",
              "    <tr>\n",
              "      <th>2</th>\n",
              "      <td>0.0</td>\n",
              "      <td>kim</td>\n",
              "      <td>3</td>\n",
              "      <td>25</td>\n",
              "      <td>goalie</td>\n",
              "    </tr>\n",
              "    <tr>\n",
              "      <th>3</th>\n",
              "      <td>5.0</td>\n",
              "      <td>pam</td>\n",
              "      <td>one</td>\n",
              "      <td>12</td>\n",
              "      <td>center</td>\n",
              "    </tr>\n",
              "    <tr>\n",
              "      <th>4</th>\n",
              "      <td>8.0</td>\n",
              "      <td>tom</td>\n",
              "      <td>2</td>\n",
              "      <td>15</td>\n",
              "      <td>backfield</td>\n",
              "    </tr>\n",
              "    <tr>\n",
              "      <th>5</th>\n",
              "      <td>12.0</td>\n",
              "      <td>timmy</td>\n",
              "      <td>3</td>\n",
              "      <td>19</td>\n",
              "      <td>forward</td>\n",
              "    </tr>\n",
              "    <tr>\n",
              "      <th>6</th>\n",
              "      <td>1.0</td>\n",
              "      <td>bob</td>\n",
              "      <td>3</td>\n",
              "      <td>17</td>\n",
              "      <td>center</td>\n",
              "    </tr>\n",
              "    <tr>\n",
              "      <th>7</th>\n",
              "      <td>2.0</td>\n",
              "      <td>billy</td>\n",
              "      <td>2</td>\n",
              "      <td>21</td>\n",
              "      <td>goalie</td>\n",
              "    </tr>\n",
              "    <tr>\n",
              "      <th>8</th>\n",
              "      <td>5.0</td>\n",
              "      <td>jimbo</td>\n",
              "      <td>0</td>\n",
              "      <td>20</td>\n",
              "      <td>center</td>\n",
              "    </tr>\n",
              "    <tr>\n",
              "      <th>9</th>\n",
              "      <td>8.0</td>\n",
              "      <td>fisher</td>\n",
              "      <td>one</td>\n",
              "      <td>12</td>\n",
              "      <td>forward</td>\n",
              "    </tr>\n",
              "    <tr>\n",
              "      <th>10</th>\n",
              "      <td>4.0</td>\n",
              "      <td>sonny</td>\n",
              "      <td>2</td>\n",
              "      <td>30</td>\n",
              "      <td>forward</td>\n",
              "    </tr>\n",
              "    <tr>\n",
              "      <th>11</th>\n",
              "      <td>0.0</td>\n",
              "      <td>seby</td>\n",
              "      <td>3</td>\n",
              "      <td>15</td>\n",
              "      <td>backfield</td>\n",
              "    </tr>\n",
              "    <tr>\n",
              "      <th>12</th>\n",
              "      <td>2.0</td>\n",
              "      <td>matthew</td>\n",
              "      <td>1</td>\n",
              "      <td>9</td>\n",
              "      <td>backfield</td>\n",
              "    </tr>\n",
              "    <tr>\n",
              "      <th>13</th>\n",
              "      <td>4.0</td>\n",
              "      <td>jamela</td>\n",
              "      <td>2</td>\n",
              "      <td>22</td>\n",
              "      <td>goalie</td>\n",
              "    </tr>\n",
              "    <tr>\n",
              "      <th>14</th>\n",
              "      <td>4.0</td>\n",
              "      <td>jamela</td>\n",
              "      <td>2</td>\n",
              "      <td>22</td>\n",
              "      <td>goalie</td>\n",
              "    </tr>\n",
              "  </tbody>\n",
              "</table>\n",
              "</div>"
            ],
            "text/plain": [
              "    Score     Name Division   Players   Position\n",
              "0    10.0      tim         1       12   forward \n",
              "1     6.0      jim         2       26     center\n",
              "2     0.0      kim         3       25     goalie\n",
              "3     5.0      pam       one       12     center\n",
              "4     8.0      tom         2       15  backfield\n",
              "5    12.0    timmy         3       19   forward \n",
              "6     1.0      bob         3       17     center\n",
              "7     2.0    billy         2       21     goalie\n",
              "8     5.0    jimbo         0       20     center\n",
              "9     8.0   fisher       one       12   forward \n",
              "10    4.0    sonny         2       30   forward \n",
              "11    0.0     seby         3       15  backfield\n",
              "12    2.0  matthew         1        9  backfield\n",
              "13    4.0   jamela         2       22     goalie\n",
              "14    4.0   jamela         2       22     goalie"
            ]
          },
          "metadata": {},
          "execution_count": 118
        }
      ]
    },
    {
      "cell_type": "markdown",
      "metadata": {
        "id": "UbSsVUzcLs5y"
      },
      "source": [
        "Now lets actually fill in the values"
      ]
    },
    {
      "cell_type": "code",
      "metadata": {
        "id": "8hCL7bqRN4RG"
      },
      "source": [
        ""
      ],
      "execution_count": null,
      "outputs": []
    },
    {
      "cell_type": "code",
      "metadata": {
        "colab": {
          "base_uri": "https://localhost:8080/"
        },
        "id": "iUJGir6zLsZa",
        "outputId": "8cde1f0e-b7e8-4b78-e062-404d4ddf6220"
      },
      "source": [
        "df.fillna(0.0,inplace=True)\n",
        "df"
      ],
      "execution_count": null,
      "outputs": [
        {
          "output_type": "execute_result",
          "data": {
            "text/html": [
              "<div>\n",
              "<style scoped>\n",
              "    .dataframe tbody tr th:only-of-type {\n",
              "        vertical-align: middle;\n",
              "    }\n",
              "\n",
              "    .dataframe tbody tr th {\n",
              "        vertical-align: top;\n",
              "    }\n",
              "\n",
              "    .dataframe thead th {\n",
              "        text-align: right;\n",
              "    }\n",
              "</style>\n",
              "<table border=\"1\" class=\"dataframe\">\n",
              "  <thead>\n",
              "    <tr style=\"text-align: right;\">\n",
              "      <th></th>\n",
              "      <th>Score</th>\n",
              "      <th>Name</th>\n",
              "      <th>Division</th>\n",
              "      <th>Players</th>\n",
              "      <th>Position</th>\n",
              "    </tr>\n",
              "  </thead>\n",
              "  <tbody>\n",
              "    <tr>\n",
              "      <th>0</th>\n",
              "      <td>10.0</td>\n",
              "      <td>tim</td>\n",
              "      <td>1</td>\n",
              "      <td>12</td>\n",
              "      <td>forward</td>\n",
              "    </tr>\n",
              "    <tr>\n",
              "      <th>1</th>\n",
              "      <td>6.0</td>\n",
              "      <td>jim</td>\n",
              "      <td>2</td>\n",
              "      <td>26</td>\n",
              "      <td>center</td>\n",
              "    </tr>\n",
              "    <tr>\n",
              "      <th>2</th>\n",
              "      <td>0.0</td>\n",
              "      <td>kim</td>\n",
              "      <td>3</td>\n",
              "      <td>25</td>\n",
              "      <td>goalie</td>\n",
              "    </tr>\n",
              "    <tr>\n",
              "      <th>3</th>\n",
              "      <td>5.0</td>\n",
              "      <td>pam</td>\n",
              "      <td>one</td>\n",
              "      <td>12</td>\n",
              "      <td>center</td>\n",
              "    </tr>\n",
              "    <tr>\n",
              "      <th>4</th>\n",
              "      <td>8.0</td>\n",
              "      <td>tom</td>\n",
              "      <td>2</td>\n",
              "      <td>15</td>\n",
              "      <td>backfield</td>\n",
              "    </tr>\n",
              "    <tr>\n",
              "      <th>5</th>\n",
              "      <td>12.0</td>\n",
              "      <td>timmy</td>\n",
              "      <td>3</td>\n",
              "      <td>19</td>\n",
              "      <td>forward</td>\n",
              "    </tr>\n",
              "    <tr>\n",
              "      <th>6</th>\n",
              "      <td>1.0</td>\n",
              "      <td>bob</td>\n",
              "      <td>3</td>\n",
              "      <td>17</td>\n",
              "      <td>center</td>\n",
              "    </tr>\n",
              "    <tr>\n",
              "      <th>7</th>\n",
              "      <td>2.0</td>\n",
              "      <td>billy</td>\n",
              "      <td>2</td>\n",
              "      <td>21</td>\n",
              "      <td>goalie</td>\n",
              "    </tr>\n",
              "    <tr>\n",
              "      <th>8</th>\n",
              "      <td>5.0</td>\n",
              "      <td>jimbo</td>\n",
              "      <td>0</td>\n",
              "      <td>20</td>\n",
              "      <td>center</td>\n",
              "    </tr>\n",
              "    <tr>\n",
              "      <th>9</th>\n",
              "      <td>8.0</td>\n",
              "      <td>fisher</td>\n",
              "      <td>one</td>\n",
              "      <td>12</td>\n",
              "      <td>forward</td>\n",
              "    </tr>\n",
              "    <tr>\n",
              "      <th>10</th>\n",
              "      <td>4.0</td>\n",
              "      <td>sonny</td>\n",
              "      <td>2</td>\n",
              "      <td>30</td>\n",
              "      <td>forward</td>\n",
              "    </tr>\n",
              "    <tr>\n",
              "      <th>11</th>\n",
              "      <td>0.0</td>\n",
              "      <td>seby</td>\n",
              "      <td>3</td>\n",
              "      <td>15</td>\n",
              "      <td>backfield</td>\n",
              "    </tr>\n",
              "    <tr>\n",
              "      <th>12</th>\n",
              "      <td>2.0</td>\n",
              "      <td>matthew</td>\n",
              "      <td>1</td>\n",
              "      <td>9</td>\n",
              "      <td>backfield</td>\n",
              "    </tr>\n",
              "    <tr>\n",
              "      <th>13</th>\n",
              "      <td>4.0</td>\n",
              "      <td>jamela</td>\n",
              "      <td>2</td>\n",
              "      <td>22</td>\n",
              "      <td>goalie</td>\n",
              "    </tr>\n",
              "    <tr>\n",
              "      <th>14</th>\n",
              "      <td>4.0</td>\n",
              "      <td>jamela</td>\n",
              "      <td>2</td>\n",
              "      <td>22</td>\n",
              "      <td>goalie</td>\n",
              "    </tr>\n",
              "  </tbody>\n",
              "</table>\n",
              "</div>"
            ],
            "text/plain": [
              "    Score     Name Division   Players   Position\n",
              "0    10.0      tim         1       12   forward \n",
              "1     6.0      jim         2       26     center\n",
              "2     0.0      kim         3       25     goalie\n",
              "3     5.0      pam       one       12     center\n",
              "4     8.0      tom         2       15  backfield\n",
              "5    12.0    timmy         3       19   forward \n",
              "6     1.0      bob         3       17     center\n",
              "7     2.0    billy         2       21     goalie\n",
              "8     5.0    jimbo         0       20     center\n",
              "9     8.0   fisher       one       12   forward \n",
              "10    4.0    sonny         2       30   forward \n",
              "11    0.0     seby         3       15  backfield\n",
              "12    2.0  matthew         1        9  backfield\n",
              "13    4.0   jamela         2       22     goalie\n",
              "14    4.0   jamela         2       22     goalie"
            ]
          },
          "metadata": {},
          "execution_count": 119
        }
      ]
    },
    {
      "cell_type": "markdown",
      "metadata": {
        "id": "eZYKrxQ0MQOC"
      },
      "source": [
        "####Fillna Column-spec"
      ]
    },
    {
      "cell_type": "markdown",
      "metadata": {
        "id": "2yWAT112L79I"
      },
      "source": [
        "We can also replace a specific column like the score column\n",
        "\n",
        "df['score'].fillna(122,inplace=True)"
      ]
    },
    {
      "cell_type": "markdown",
      "metadata": {
        "id": "vDM7qZfOMWfy"
      },
      "source": [
        "####Fill in with Mean"
      ]
    },
    {
      "cell_type": "code",
      "metadata": {
        "colab": {
          "base_uri": "https://localhost:8080/"
        },
        "id": "_nWYQcITMcjT",
        "outputId": "1f075171-b00a-4c40-eef8-26ee6a439236"
      },
      "source": [
        "df2 = pd.read_csv('soccerteam.csv')\n",
        "#df2['Score'] I can print just the score\n",
        "mean = df2['Score'].mean()\n",
        "df2['Score'].fillna(mean,inplace=True)\n",
        "print(df2)"
      ],
      "execution_count": null,
      "outputs": [
        {
          "output_type": "stream",
          "name": "stdout",
          "text": [
            "        Score     Name Division   Players   Position\n",
            "0   10.000000      tim         1       12   forward \n",
            "1    6.000000      jim         2       26     center\n",
            "2    5.461538      kim         3       25     goalie\n",
            "3    5.000000      pam       one       12     center\n",
            "4    8.000000      tom         2       15  backfield\n",
            "5   12.000000    timmy         3       19   forward \n",
            "6    1.000000      bob         3       17     center\n",
            "7    2.000000    billy         2       21     goalie\n",
            "8    5.000000    jimbo       NaN       20     center\n",
            "9    8.000000   fisher       one       12   forward \n",
            "10   4.000000    sonny         2       30   forward \n",
            "11   5.461538     seby         3       15  backfield\n",
            "12   2.000000  matthew         1        9  backfield\n",
            "13   4.000000   jamela         2       22     goalie\n",
            "14   4.000000   jamela         2       22     goalie\n"
          ]
        }
      ]
    },
    {
      "cell_type": "markdown",
      "metadata": {
        "id": "h2aCfx16OUHY"
      },
      "source": [
        "####Fill in with Median\n",
        "\n",
        "med = df2['score'].median()\n",
        "df2['Score'].fillna(median)"
      ]
    },
    {
      "cell_type": "markdown",
      "metadata": {
        "id": "-7tvdFI5OiRD"
      },
      "source": [
        "Fill in with Mode\n",
        "\n",
        "\n",
        "mode = df['Score'].mode()"
      ]
    },
    {
      "cell_type": "markdown",
      "metadata": {
        "id": "HxQX5ibuJf7y"
      },
      "source": [
        "###Wrong Format"
      ]
    },
    {
      "cell_type": "markdown",
      "metadata": {
        "id": "F2cLowTEL2xN"
      },
      "source": [
        "So we can do two things: Let us covert some of the bad values to good ones with a pd.to_?(the column) or we can also drop the values if the converstion fails"
      ]
    },
    {
      "cell_type": "code",
      "metadata": {
        "id": "Lg37UvY1Pi63"
      },
      "source": [
        "#df2['Division'] = pd.to_numeric(df2['Division'])"
      ],
      "execution_count": null,
      "outputs": []
    },
    {
      "cell_type": "markdown",
      "metadata": {
        "id": "G-iTfWYbQA4y"
      },
      "source": [
        "###Replacing Values\n",
        "\n",
        "Lets say we want to replace the row value for index 5 of the Score column with 10 instead of 12, we just need to make that change:"
      ]
    },
    {
      "cell_type": "code",
      "metadata": {
        "colab": {
          "base_uri": "https://localhost:8080/",
          "height": 511
        },
        "id": "D_U6Dhz6QdyW",
        "outputId": "eac92f1e-e2d6-42ed-b595-184a8d90e9d3"
      },
      "source": [
        "df2.loc[5,'Score'] = 10\n",
        "df2\n",
        "#if the elements in a certain row of a specific\n",
        "#column are smaller than n we can replace with something else\n",
        "#with a loop"
      ],
      "execution_count": null,
      "outputs": [
        {
          "output_type": "execute_result",
          "data": {
            "text/html": [
              "<div>\n",
              "<style scoped>\n",
              "    .dataframe tbody tr th:only-of-type {\n",
              "        vertical-align: middle;\n",
              "    }\n",
              "\n",
              "    .dataframe tbody tr th {\n",
              "        vertical-align: top;\n",
              "    }\n",
              "\n",
              "    .dataframe thead th {\n",
              "        text-align: right;\n",
              "    }\n",
              "</style>\n",
              "<table border=\"1\" class=\"dataframe\">\n",
              "  <thead>\n",
              "    <tr style=\"text-align: right;\">\n",
              "      <th></th>\n",
              "      <th>Score</th>\n",
              "      <th>Name</th>\n",
              "      <th>Division</th>\n",
              "      <th>Players</th>\n",
              "      <th>Position</th>\n",
              "    </tr>\n",
              "  </thead>\n",
              "  <tbody>\n",
              "    <tr>\n",
              "      <th>0</th>\n",
              "      <td>10.000000</td>\n",
              "      <td>tim</td>\n",
              "      <td>1</td>\n",
              "      <td>12</td>\n",
              "      <td>forward</td>\n",
              "    </tr>\n",
              "    <tr>\n",
              "      <th>1</th>\n",
              "      <td>6.000000</td>\n",
              "      <td>jim</td>\n",
              "      <td>2</td>\n",
              "      <td>26</td>\n",
              "      <td>center</td>\n",
              "    </tr>\n",
              "    <tr>\n",
              "      <th>2</th>\n",
              "      <td>5.461538</td>\n",
              "      <td>kim</td>\n",
              "      <td>3</td>\n",
              "      <td>25</td>\n",
              "      <td>goalie</td>\n",
              "    </tr>\n",
              "    <tr>\n",
              "      <th>3</th>\n",
              "      <td>5.000000</td>\n",
              "      <td>pam</td>\n",
              "      <td>one</td>\n",
              "      <td>12</td>\n",
              "      <td>center</td>\n",
              "    </tr>\n",
              "    <tr>\n",
              "      <th>4</th>\n",
              "      <td>8.000000</td>\n",
              "      <td>tom</td>\n",
              "      <td>2</td>\n",
              "      <td>15</td>\n",
              "      <td>backfield</td>\n",
              "    </tr>\n",
              "    <tr>\n",
              "      <th>5</th>\n",
              "      <td>10.000000</td>\n",
              "      <td>timmy</td>\n",
              "      <td>3</td>\n",
              "      <td>19</td>\n",
              "      <td>forward</td>\n",
              "    </tr>\n",
              "    <tr>\n",
              "      <th>6</th>\n",
              "      <td>100.000000</td>\n",
              "      <td>bob</td>\n",
              "      <td>3</td>\n",
              "      <td>17</td>\n",
              "      <td>center</td>\n",
              "    </tr>\n",
              "    <tr>\n",
              "      <th>7</th>\n",
              "      <td>2.000000</td>\n",
              "      <td>billy</td>\n",
              "      <td>2</td>\n",
              "      <td>21</td>\n",
              "      <td>goalie</td>\n",
              "    </tr>\n",
              "    <tr>\n",
              "      <th>8</th>\n",
              "      <td>5.000000</td>\n",
              "      <td>jimbo</td>\n",
              "      <td>NaN</td>\n",
              "      <td>20</td>\n",
              "      <td>center</td>\n",
              "    </tr>\n",
              "    <tr>\n",
              "      <th>9</th>\n",
              "      <td>8.000000</td>\n",
              "      <td>fisher</td>\n",
              "      <td>one</td>\n",
              "      <td>12</td>\n",
              "      <td>forward</td>\n",
              "    </tr>\n",
              "    <tr>\n",
              "      <th>10</th>\n",
              "      <td>4.000000</td>\n",
              "      <td>sonny</td>\n",
              "      <td>2</td>\n",
              "      <td>30</td>\n",
              "      <td>forward</td>\n",
              "    </tr>\n",
              "    <tr>\n",
              "      <th>11</th>\n",
              "      <td>5.461538</td>\n",
              "      <td>seby</td>\n",
              "      <td>3</td>\n",
              "      <td>15</td>\n",
              "      <td>backfield</td>\n",
              "    </tr>\n",
              "    <tr>\n",
              "      <th>12</th>\n",
              "      <td>2.000000</td>\n",
              "      <td>matthew</td>\n",
              "      <td>1</td>\n",
              "      <td>9</td>\n",
              "      <td>backfield</td>\n",
              "    </tr>\n",
              "    <tr>\n",
              "      <th>13</th>\n",
              "      <td>4.000000</td>\n",
              "      <td>jamela</td>\n",
              "      <td>2</td>\n",
              "      <td>22</td>\n",
              "      <td>goalie</td>\n",
              "    </tr>\n",
              "    <tr>\n",
              "      <th>14</th>\n",
              "      <td>4.000000</td>\n",
              "      <td>jamela</td>\n",
              "      <td>2</td>\n",
              "      <td>22</td>\n",
              "      <td>goalie</td>\n",
              "    </tr>\n",
              "  </tbody>\n",
              "</table>\n",
              "</div>"
            ],
            "text/plain": [
              "         Score     Name Division   Players   Position\n",
              "0    10.000000      tim         1       12   forward \n",
              "1     6.000000      jim         2       26     center\n",
              "2     5.461538      kim         3       25     goalie\n",
              "3     5.000000      pam       one       12     center\n",
              "4     8.000000      tom         2       15  backfield\n",
              "5    10.000000    timmy         3       19   forward \n",
              "6   100.000000      bob         3       17     center\n",
              "7     2.000000    billy         2       21     goalie\n",
              "8     5.000000    jimbo       NaN       20     center\n",
              "9     8.000000   fisher       one       12   forward \n",
              "10    4.000000    sonny         2       30   forward \n",
              "11    5.461538     seby         3       15  backfield\n",
              "12    2.000000  matthew         1        9  backfield\n",
              "13    4.000000   jamela         2       22     goalie\n",
              "14    4.000000   jamela         2       22     goalie"
            ]
          },
          "metadata": {},
          "execution_count": 125
        }
      ]
    },
    {
      "cell_type": "markdown",
      "metadata": {
        "id": "SuXspyVSRw3b"
      },
      "source": [
        "We also change the value of certain elements in a row if the values are less that a certain value with a for loop that will touch each index in a list of indices given by dataframe.index"
      ]
    },
    {
      "cell_type": "markdown",
      "metadata": {
        "id": "-qVmTQhwS6OJ"
      },
      "source": [
        "####Changing Rows"
      ]
    },
    {
      "cell_type": "code",
      "metadata": {
        "colab": {
          "base_uri": "https://localhost:8080/",
          "height": 511
        },
        "id": "K0Q5udLMRCrE",
        "outputId": "d38cf3d2-8c86-45e2-949a-5819b38984f2"
      },
      "source": [
        "for index in df2.index:\n",
        "  if df2.loc[index,'Score'] < 2:\n",
        "    df2.loc[index,'Score'] = 100\n",
        "df2"
      ],
      "execution_count": null,
      "outputs": [
        {
          "output_type": "execute_result",
          "data": {
            "text/html": [
              "<div>\n",
              "<style scoped>\n",
              "    .dataframe tbody tr th:only-of-type {\n",
              "        vertical-align: middle;\n",
              "    }\n",
              "\n",
              "    .dataframe tbody tr th {\n",
              "        vertical-align: top;\n",
              "    }\n",
              "\n",
              "    .dataframe thead th {\n",
              "        text-align: right;\n",
              "    }\n",
              "</style>\n",
              "<table border=\"1\" class=\"dataframe\">\n",
              "  <thead>\n",
              "    <tr style=\"text-align: right;\">\n",
              "      <th></th>\n",
              "      <th>Score</th>\n",
              "      <th>Name</th>\n",
              "      <th>Division</th>\n",
              "      <th>Players</th>\n",
              "      <th>Position</th>\n",
              "    </tr>\n",
              "  </thead>\n",
              "  <tbody>\n",
              "    <tr>\n",
              "      <th>0</th>\n",
              "      <td>10.000000</td>\n",
              "      <td>tim</td>\n",
              "      <td>1</td>\n",
              "      <td>12</td>\n",
              "      <td>forward</td>\n",
              "    </tr>\n",
              "    <tr>\n",
              "      <th>1</th>\n",
              "      <td>6.000000</td>\n",
              "      <td>jim</td>\n",
              "      <td>2</td>\n",
              "      <td>26</td>\n",
              "      <td>center</td>\n",
              "    </tr>\n",
              "    <tr>\n",
              "      <th>2</th>\n",
              "      <td>5.461538</td>\n",
              "      <td>kim</td>\n",
              "      <td>3</td>\n",
              "      <td>25</td>\n",
              "      <td>goalie</td>\n",
              "    </tr>\n",
              "    <tr>\n",
              "      <th>3</th>\n",
              "      <td>5.000000</td>\n",
              "      <td>pam</td>\n",
              "      <td>one</td>\n",
              "      <td>12</td>\n",
              "      <td>center</td>\n",
              "    </tr>\n",
              "    <tr>\n",
              "      <th>4</th>\n",
              "      <td>8.000000</td>\n",
              "      <td>tom</td>\n",
              "      <td>2</td>\n",
              "      <td>15</td>\n",
              "      <td>backfield</td>\n",
              "    </tr>\n",
              "    <tr>\n",
              "      <th>5</th>\n",
              "      <td>10.000000</td>\n",
              "      <td>timmy</td>\n",
              "      <td>3</td>\n",
              "      <td>19</td>\n",
              "      <td>forward</td>\n",
              "    </tr>\n",
              "    <tr>\n",
              "      <th>6</th>\n",
              "      <td>100.000000</td>\n",
              "      <td>bob</td>\n",
              "      <td>3</td>\n",
              "      <td>17</td>\n",
              "      <td>center</td>\n",
              "    </tr>\n",
              "    <tr>\n",
              "      <th>7</th>\n",
              "      <td>2.000000</td>\n",
              "      <td>billy</td>\n",
              "      <td>2</td>\n",
              "      <td>21</td>\n",
              "      <td>goalie</td>\n",
              "    </tr>\n",
              "    <tr>\n",
              "      <th>8</th>\n",
              "      <td>5.000000</td>\n",
              "      <td>jimbo</td>\n",
              "      <td>NaN</td>\n",
              "      <td>20</td>\n",
              "      <td>center</td>\n",
              "    </tr>\n",
              "    <tr>\n",
              "      <th>9</th>\n",
              "      <td>8.000000</td>\n",
              "      <td>fisher</td>\n",
              "      <td>one</td>\n",
              "      <td>12</td>\n",
              "      <td>forward</td>\n",
              "    </tr>\n",
              "    <tr>\n",
              "      <th>10</th>\n",
              "      <td>4.000000</td>\n",
              "      <td>sonny</td>\n",
              "      <td>2</td>\n",
              "      <td>30</td>\n",
              "      <td>forward</td>\n",
              "    </tr>\n",
              "    <tr>\n",
              "      <th>11</th>\n",
              "      <td>5.461538</td>\n",
              "      <td>seby</td>\n",
              "      <td>3</td>\n",
              "      <td>15</td>\n",
              "      <td>backfield</td>\n",
              "    </tr>\n",
              "    <tr>\n",
              "      <th>12</th>\n",
              "      <td>2.000000</td>\n",
              "      <td>matthew</td>\n",
              "      <td>1</td>\n",
              "      <td>9</td>\n",
              "      <td>backfield</td>\n",
              "    </tr>\n",
              "    <tr>\n",
              "      <th>13</th>\n",
              "      <td>4.000000</td>\n",
              "      <td>jamela</td>\n",
              "      <td>2</td>\n",
              "      <td>22</td>\n",
              "      <td>goalie</td>\n",
              "    </tr>\n",
              "    <tr>\n",
              "      <th>14</th>\n",
              "      <td>4.000000</td>\n",
              "      <td>jamela</td>\n",
              "      <td>2</td>\n",
              "      <td>22</td>\n",
              "      <td>goalie</td>\n",
              "    </tr>\n",
              "  </tbody>\n",
              "</table>\n",
              "</div>"
            ],
            "text/plain": [
              "         Score     Name Division   Players   Position\n",
              "0    10.000000      tim         1       12   forward \n",
              "1     6.000000      jim         2       26     center\n",
              "2     5.461538      kim         3       25     goalie\n",
              "3     5.000000      pam       one       12     center\n",
              "4     8.000000      tom         2       15  backfield\n",
              "5    10.000000    timmy         3       19   forward \n",
              "6   100.000000      bob         3       17     center\n",
              "7     2.000000    billy         2       21     goalie\n",
              "8     5.000000    jimbo       NaN       20     center\n",
              "9     8.000000   fisher       one       12   forward \n",
              "10    4.000000    sonny         2       30   forward \n",
              "11    5.461538     seby         3       15  backfield\n",
              "12    2.000000  matthew         1        9  backfield\n",
              "13    4.000000   jamela         2       22     goalie\n",
              "14    4.000000   jamela         2       22     goalie"
            ]
          },
          "metadata": {},
          "execution_count": 126
        }
      ]
    },
    {
      "cell_type": "markdown",
      "metadata": {
        "id": "zI7YGeftR7GS"
      },
      "source": [
        "####Removing Rows\n",
        "\n",
        "\n",
        "We can also just remove the row if the condition is true"
      ]
    },
    {
      "cell_type": "code",
      "metadata": {
        "colab": {
          "base_uri": "https://localhost:8080/",
          "height": 480
        },
        "id": "eVL6P7nLSCc6",
        "outputId": "81a0a6a0-454b-4ef7-8287-df03e71bad29"
      },
      "source": [
        "for index in df2.index:\n",
        "  if df2.loc[index,'Score'] == 100:\n",
        "    df2.drop(index,inplace = True)\n",
        "\n",
        "df2"
      ],
      "execution_count": null,
      "outputs": [
        {
          "output_type": "execute_result",
          "data": {
            "text/html": [
              "<div>\n",
              "<style scoped>\n",
              "    .dataframe tbody tr th:only-of-type {\n",
              "        vertical-align: middle;\n",
              "    }\n",
              "\n",
              "    .dataframe tbody tr th {\n",
              "        vertical-align: top;\n",
              "    }\n",
              "\n",
              "    .dataframe thead th {\n",
              "        text-align: right;\n",
              "    }\n",
              "</style>\n",
              "<table border=\"1\" class=\"dataframe\">\n",
              "  <thead>\n",
              "    <tr style=\"text-align: right;\">\n",
              "      <th></th>\n",
              "      <th>Score</th>\n",
              "      <th>Name</th>\n",
              "      <th>Division</th>\n",
              "      <th>Players</th>\n",
              "      <th>Position</th>\n",
              "    </tr>\n",
              "  </thead>\n",
              "  <tbody>\n",
              "    <tr>\n",
              "      <th>0</th>\n",
              "      <td>10.000000</td>\n",
              "      <td>tim</td>\n",
              "      <td>1</td>\n",
              "      <td>12</td>\n",
              "      <td>forward</td>\n",
              "    </tr>\n",
              "    <tr>\n",
              "      <th>1</th>\n",
              "      <td>6.000000</td>\n",
              "      <td>jim</td>\n",
              "      <td>2</td>\n",
              "      <td>26</td>\n",
              "      <td>center</td>\n",
              "    </tr>\n",
              "    <tr>\n",
              "      <th>2</th>\n",
              "      <td>5.461538</td>\n",
              "      <td>kim</td>\n",
              "      <td>3</td>\n",
              "      <td>25</td>\n",
              "      <td>goalie</td>\n",
              "    </tr>\n",
              "    <tr>\n",
              "      <th>3</th>\n",
              "      <td>5.000000</td>\n",
              "      <td>pam</td>\n",
              "      <td>one</td>\n",
              "      <td>12</td>\n",
              "      <td>center</td>\n",
              "    </tr>\n",
              "    <tr>\n",
              "      <th>4</th>\n",
              "      <td>8.000000</td>\n",
              "      <td>tom</td>\n",
              "      <td>2</td>\n",
              "      <td>15</td>\n",
              "      <td>backfield</td>\n",
              "    </tr>\n",
              "    <tr>\n",
              "      <th>5</th>\n",
              "      <td>10.000000</td>\n",
              "      <td>timmy</td>\n",
              "      <td>3</td>\n",
              "      <td>19</td>\n",
              "      <td>forward</td>\n",
              "    </tr>\n",
              "    <tr>\n",
              "      <th>7</th>\n",
              "      <td>2.000000</td>\n",
              "      <td>billy</td>\n",
              "      <td>2</td>\n",
              "      <td>21</td>\n",
              "      <td>goalie</td>\n",
              "    </tr>\n",
              "    <tr>\n",
              "      <th>8</th>\n",
              "      <td>5.000000</td>\n",
              "      <td>jimbo</td>\n",
              "      <td>NaN</td>\n",
              "      <td>20</td>\n",
              "      <td>center</td>\n",
              "    </tr>\n",
              "    <tr>\n",
              "      <th>9</th>\n",
              "      <td>8.000000</td>\n",
              "      <td>fisher</td>\n",
              "      <td>one</td>\n",
              "      <td>12</td>\n",
              "      <td>forward</td>\n",
              "    </tr>\n",
              "    <tr>\n",
              "      <th>10</th>\n",
              "      <td>4.000000</td>\n",
              "      <td>sonny</td>\n",
              "      <td>2</td>\n",
              "      <td>30</td>\n",
              "      <td>forward</td>\n",
              "    </tr>\n",
              "    <tr>\n",
              "      <th>11</th>\n",
              "      <td>5.461538</td>\n",
              "      <td>seby</td>\n",
              "      <td>3</td>\n",
              "      <td>15</td>\n",
              "      <td>backfield</td>\n",
              "    </tr>\n",
              "    <tr>\n",
              "      <th>12</th>\n",
              "      <td>2.000000</td>\n",
              "      <td>matthew</td>\n",
              "      <td>1</td>\n",
              "      <td>9</td>\n",
              "      <td>backfield</td>\n",
              "    </tr>\n",
              "    <tr>\n",
              "      <th>13</th>\n",
              "      <td>4.000000</td>\n",
              "      <td>jamela</td>\n",
              "      <td>2</td>\n",
              "      <td>22</td>\n",
              "      <td>goalie</td>\n",
              "    </tr>\n",
              "    <tr>\n",
              "      <th>14</th>\n",
              "      <td>4.000000</td>\n",
              "      <td>jamela</td>\n",
              "      <td>2</td>\n",
              "      <td>22</td>\n",
              "      <td>goalie</td>\n",
              "    </tr>\n",
              "  </tbody>\n",
              "</table>\n",
              "</div>"
            ],
            "text/plain": [
              "        Score     Name Division   Players   Position\n",
              "0   10.000000      tim         1       12   forward \n",
              "1    6.000000      jim         2       26     center\n",
              "2    5.461538      kim         3       25     goalie\n",
              "3    5.000000      pam       one       12     center\n",
              "4    8.000000      tom         2       15  backfield\n",
              "5   10.000000    timmy         3       19   forward \n",
              "7    2.000000    billy         2       21     goalie\n",
              "8    5.000000    jimbo       NaN       20     center\n",
              "9    8.000000   fisher       one       12   forward \n",
              "10   4.000000    sonny         2       30   forward \n",
              "11   5.461538     seby         3       15  backfield\n",
              "12   2.000000  matthew         1        9  backfield\n",
              "13   4.000000   jamela         2       22     goalie\n",
              "14   4.000000   jamela         2       22     goalie"
            ]
          },
          "metadata": {},
          "execution_count": 128
        }
      ]
    },
    {
      "cell_type": "markdown",
      "metadata": {
        "id": "JTyQmWuES_e5"
      },
      "source": [
        "###Removing Duplicates"
      ]
    },
    {
      "cell_type": "markdown",
      "metadata": {
        "id": "Ka2nYjR2TD6Z"
      },
      "source": [
        "We can also remove duplicate valeus directly, but first we might want to detect them first right?\n",
        "\n",
        "print(df2.duplicated())\n",
        "\n",
        "The method returns true for every method that is duplicated\n",
        "\n",
        "---\n",
        "\n"
      ]
    },
    {
      "cell_type": "code",
      "metadata": {
        "colab": {
          "base_uri": "https://localhost:8080/",
          "height": 702
        },
        "id": "FQ0NRH4WTaCp",
        "outputId": "285d2e77-7c9f-4899-b5bb-18b9e45efd02"
      },
      "source": [
        "print(df2.duplicated())\n",
        "df2.drop_duplicates(inplace=True)\n",
        "df2"
      ],
      "execution_count": null,
      "outputs": [
        {
          "output_type": "stream",
          "name": "stdout",
          "text": [
            "0     False\n",
            "1     False\n",
            "2     False\n",
            "3     False\n",
            "4     False\n",
            "5     False\n",
            "7     False\n",
            "8     False\n",
            "9     False\n",
            "10    False\n",
            "11    False\n",
            "12    False\n",
            "13    False\n",
            "14     True\n",
            "dtype: bool\n"
          ]
        },
        {
          "output_type": "execute_result",
          "data": {
            "text/html": [
              "<div>\n",
              "<style scoped>\n",
              "    .dataframe tbody tr th:only-of-type {\n",
              "        vertical-align: middle;\n",
              "    }\n",
              "\n",
              "    .dataframe tbody tr th {\n",
              "        vertical-align: top;\n",
              "    }\n",
              "\n",
              "    .dataframe thead th {\n",
              "        text-align: right;\n",
              "    }\n",
              "</style>\n",
              "<table border=\"1\" class=\"dataframe\">\n",
              "  <thead>\n",
              "    <tr style=\"text-align: right;\">\n",
              "      <th></th>\n",
              "      <th>Score</th>\n",
              "      <th>Name</th>\n",
              "      <th>Division</th>\n",
              "      <th>Players</th>\n",
              "      <th>Position</th>\n",
              "    </tr>\n",
              "  </thead>\n",
              "  <tbody>\n",
              "    <tr>\n",
              "      <th>0</th>\n",
              "      <td>10.000000</td>\n",
              "      <td>tim</td>\n",
              "      <td>1</td>\n",
              "      <td>12</td>\n",
              "      <td>forward</td>\n",
              "    </tr>\n",
              "    <tr>\n",
              "      <th>1</th>\n",
              "      <td>6.000000</td>\n",
              "      <td>jim</td>\n",
              "      <td>2</td>\n",
              "      <td>26</td>\n",
              "      <td>center</td>\n",
              "    </tr>\n",
              "    <tr>\n",
              "      <th>2</th>\n",
              "      <td>5.461538</td>\n",
              "      <td>kim</td>\n",
              "      <td>3</td>\n",
              "      <td>25</td>\n",
              "      <td>goalie</td>\n",
              "    </tr>\n",
              "    <tr>\n",
              "      <th>3</th>\n",
              "      <td>5.000000</td>\n",
              "      <td>pam</td>\n",
              "      <td>one</td>\n",
              "      <td>12</td>\n",
              "      <td>center</td>\n",
              "    </tr>\n",
              "    <tr>\n",
              "      <th>4</th>\n",
              "      <td>8.000000</td>\n",
              "      <td>tom</td>\n",
              "      <td>2</td>\n",
              "      <td>15</td>\n",
              "      <td>backfield</td>\n",
              "    </tr>\n",
              "    <tr>\n",
              "      <th>5</th>\n",
              "      <td>10.000000</td>\n",
              "      <td>timmy</td>\n",
              "      <td>3</td>\n",
              "      <td>19</td>\n",
              "      <td>forward</td>\n",
              "    </tr>\n",
              "    <tr>\n",
              "      <th>7</th>\n",
              "      <td>2.000000</td>\n",
              "      <td>billy</td>\n",
              "      <td>2</td>\n",
              "      <td>21</td>\n",
              "      <td>goalie</td>\n",
              "    </tr>\n",
              "    <tr>\n",
              "      <th>8</th>\n",
              "      <td>5.000000</td>\n",
              "      <td>jimbo</td>\n",
              "      <td>NaN</td>\n",
              "      <td>20</td>\n",
              "      <td>center</td>\n",
              "    </tr>\n",
              "    <tr>\n",
              "      <th>9</th>\n",
              "      <td>8.000000</td>\n",
              "      <td>fisher</td>\n",
              "      <td>one</td>\n",
              "      <td>12</td>\n",
              "      <td>forward</td>\n",
              "    </tr>\n",
              "    <tr>\n",
              "      <th>10</th>\n",
              "      <td>4.000000</td>\n",
              "      <td>sonny</td>\n",
              "      <td>2</td>\n",
              "      <td>30</td>\n",
              "      <td>forward</td>\n",
              "    </tr>\n",
              "    <tr>\n",
              "      <th>11</th>\n",
              "      <td>5.461538</td>\n",
              "      <td>seby</td>\n",
              "      <td>3</td>\n",
              "      <td>15</td>\n",
              "      <td>backfield</td>\n",
              "    </tr>\n",
              "    <tr>\n",
              "      <th>12</th>\n",
              "      <td>2.000000</td>\n",
              "      <td>matthew</td>\n",
              "      <td>1</td>\n",
              "      <td>9</td>\n",
              "      <td>backfield</td>\n",
              "    </tr>\n",
              "    <tr>\n",
              "      <th>13</th>\n",
              "      <td>4.000000</td>\n",
              "      <td>jamela</td>\n",
              "      <td>2</td>\n",
              "      <td>22</td>\n",
              "      <td>goalie</td>\n",
              "    </tr>\n",
              "  </tbody>\n",
              "</table>\n",
              "</div>"
            ],
            "text/plain": [
              "        Score     Name Division   Players   Position\n",
              "0   10.000000      tim         1       12   forward \n",
              "1    6.000000      jim         2       26     center\n",
              "2    5.461538      kim         3       25     goalie\n",
              "3    5.000000      pam       one       12     center\n",
              "4    8.000000      tom         2       15  backfield\n",
              "5   10.000000    timmy         3       19   forward \n",
              "7    2.000000    billy         2       21     goalie\n",
              "8    5.000000    jimbo       NaN       20     center\n",
              "9    8.000000   fisher       one       12   forward \n",
              "10   4.000000    sonny         2       30   forward \n",
              "11   5.461538     seby         3       15  backfield\n",
              "12   2.000000  matthew         1        9  backfield\n",
              "13   4.000000   jamela         2       22     goalie"
            ]
          },
          "metadata": {},
          "execution_count": 131
        }
      ]
    },
    {
      "cell_type": "markdown",
      "metadata": {
        "id": "LzpfrcfiUT5d"
      },
      "source": [
        "##Correlation\n",
        "\n",
        "We can find the correlation between all rows of data, ignoring the ones that have text or non numeric data in them with the corr method"
      ]
    },
    {
      "cell_type": "code",
      "metadata": {
        "colab": {
          "base_uri": "https://localhost:8080/",
          "height": 110
        },
        "id": "zPkzFbg0Uh-Y",
        "outputId": "70a85a72-5b5f-4494-cbf5-479bb794aa57"
      },
      "source": [
        "df2.corr()"
      ],
      "execution_count": null,
      "outputs": [
        {
          "output_type": "execute_result",
          "data": {
            "text/html": [
              "<div>\n",
              "<style scoped>\n",
              "    .dataframe tbody tr th:only-of-type {\n",
              "        vertical-align: middle;\n",
              "    }\n",
              "\n",
              "    .dataframe tbody tr th {\n",
              "        vertical-align: top;\n",
              "    }\n",
              "\n",
              "    .dataframe thead th {\n",
              "        text-align: right;\n",
              "    }\n",
              "</style>\n",
              "<table border=\"1\" class=\"dataframe\">\n",
              "  <thead>\n",
              "    <tr style=\"text-align: right;\">\n",
              "      <th></th>\n",
              "      <th>Score</th>\n",
              "      <th>Players</th>\n",
              "    </tr>\n",
              "  </thead>\n",
              "  <tbody>\n",
              "    <tr>\n",
              "      <th>Score</th>\n",
              "      <td>1.000000</td>\n",
              "      <td>-0.215139</td>\n",
              "    </tr>\n",
              "    <tr>\n",
              "      <th>Players</th>\n",
              "      <td>-0.215139</td>\n",
              "      <td>1.000000</td>\n",
              "    </tr>\n",
              "  </tbody>\n",
              "</table>\n",
              "</div>"
            ],
            "text/plain": [
              "            Score   Players\n",
              "Score    1.000000 -0.215139\n",
              "Players -0.215139  1.000000"
            ]
          },
          "metadata": {},
          "execution_count": 132
        }
      ]
    },
    {
      "cell_type": "markdown",
      "metadata": {
        "id": "Ag1dN4PWU-Ml"
      },
      "source": [
        "##Scatterplot\n",
        "\n",
        "Pandas also has a scatter plot method for plots so we can plot all columns with the\n",
        "\n",
        "df.plot()"
      ]
    },
    {
      "cell_type": "markdown",
      "metadata": {
        "id": "UaeIivP0VJW5"
      },
      "source": [
        "###Parameters\n",
        "\n",
        "df.plot(kind=, x = 'some column', y='some other column')\n",
        "\n",
        "Leave all blank and the whole dataset gets printed!"
      ]
    },
    {
      "cell_type": "code",
      "metadata": {
        "colab": {
          "base_uri": "https://localhost:8080/",
          "height": 282
        },
        "id": "c272R3c-WDGV",
        "outputId": "cf56c75f-d066-468c-f9fc-ac58719b7092"
      },
      "source": [
        "df = pd.read_csv('data.csv')\n",
        "#df - WE print the first 5 and last 5 rows \n",
        "df.plot()"
      ],
      "execution_count": null,
      "outputs": [
        {
          "output_type": "execute_result",
          "data": {
            "text/plain": [
              "<matplotlib.axes._subplots.AxesSubplot at 0x7fec624e4a10>"
            ]
          },
          "metadata": {},
          "execution_count": 143
        },
        {
          "output_type": "display_data",
          "data": {
            "image/png": "[encoded data removed]",
            "text/plain": [
              "<Figure size 432x288 with 1 Axes>"
            ]
          },
          "metadata": {
            "needs_background": "light"
          }
        }
      ]
    },
    {
      "cell_type": "markdown",
      "metadata": {
        "id": "30lh8bXmXOrY"
      },
      "source": [
        "We can also plot specific columns as part of the x,y axis"
      ]
    },
    {
      "cell_type": "code",
      "metadata": {
        "colab": {
          "base_uri": "https://localhost:8080/",
          "height": 296
        },
        "id": "loNOdT9SWL__",
        "outputId": "56223365-049d-43d1-872f-ebd3436aa169"
      },
      "source": [
        "df.plot(kind ='scatter',x ='Pulse',y ='Calories')"
      ],
      "execution_count": null,
      "outputs": [
        {
          "output_type": "execute_result",
          "data": {
            "text/plain": [
              "<matplotlib.axes._subplots.AxesSubplot at 0x7fec62517c10>"
            ]
          },
          "metadata": {},
          "execution_count": 139
        },
        {
          "output_type": "display_data",
          "data": {
            "image/png": "[encoded data removed]",
            "text/plain": [
              "<Figure size 432x288 with 1 Axes>"
            ]
          },
          "metadata": {
            "needs_background": "light"
          }
        }
      ]
    },
    {
      "cell_type": "markdown",
      "metadata": {
        "id": "Gxbjz3SDXZ36"
      },
      "source": [
        "###Histograms\n",
        "\n",
        "We can even plot histograms of a specific column such as the following for Duration field"
      ]
    },
    {
      "cell_type": "code",
      "metadata": {
        "colab": {
          "base_uri": "https://localhost:8080/",
          "height": 282
        },
        "id": "UwjfkJ6SXiNq",
        "outputId": "d241407f-eccf-4b83-deb8-35a54da36bff"
      },
      "source": [
        "df['Duration'].plot(kind='hist')"
      ],
      "execution_count": null,
      "outputs": [
        {
          "output_type": "execute_result",
          "data": {
            "text/plain": [
              "<matplotlib.axes._subplots.AxesSubplot at 0x7fec62f0f650>"
            ]
          },
          "metadata": {},
          "execution_count": 140
        },
        {
          "output_type": "display_data",
          "data": {
            "image/png": "[encoded data removed]",
            "text/plain": [
              "<Figure size 432x288 with 1 Axes>"
            ]
          },
          "metadata": {
            "needs_background": "light"
          }
        }
      ]
    },
    {
      "cell_type": "markdown",
      "metadata": {
        "id": "hl3-lf4MPR4H"
      },
      "source": [
        "##Statistics\n",
        "\n",
        "So we are finally at the part where we calculate common statistical parameter for use in modeling so we can start by getting the mean and mode and median in the set"
      ]
    },
    {
      "cell_type": "markdown",
      "metadata": {
        "id": "uXdpe6p3PheQ"
      },
      "source": [
        "###Mean,Median,Mode"
      ]
    },
    {
      "cell_type": "code",
      "metadata": {
        "id": "-cm1rBHDPl7l"
      },
      "source": [
        "import pandas as pd\n",
        "import numpy as np\n"
      ],
      "execution_count": 1,
      "outputs": []
    },
    {
      "cell_type": "code",
      "metadata": {
        "colab": {
          "base_uri": "https://localhost:8080/",
          "height": 417
        },
        "id": "L0pde6klPzz_",
        "outputId": "9e9756eb-1703-4064-ac03-854c22c31b40"
      },
      "source": [
        "df = pd.read_csv('data.csv')\n",
        "df2 = pd.read_csv('soccerteam.csv')\n",
        "\n",
        "df"
      ],
      "execution_count": 4,
      "outputs": [
        {
          "output_type": "execute_result",
          "data": {
            "text/html": [
              "<div>\n",
              "<style scoped>\n",
              "    .dataframe tbody tr th:only-of-type {\n",
              "        vertical-align: middle;\n",
              "    }\n",
              "\n",
              "    .dataframe tbody tr th {\n",
              "        vertical-align: top;\n",
              "    }\n",
              "\n",
              "    .dataframe thead th {\n",
              "        text-align: right;\n",
              "    }\n",
              "</style>\n",
              "<table border=\"1\" class=\"dataframe\">\n",
              "  <thead>\n",
              "    <tr style=\"text-align: right;\">\n",
              "      <th></th>\n",
              "      <th>Duration</th>\n",
              "      <th>Pulse</th>\n",
              "      <th>Maxpulse</th>\n",
              "      <th>Calories</th>\n",
              "    </tr>\n",
              "  </thead>\n",
              "  <tbody>\n",
              "    <tr>\n",
              "      <th>0</th>\n",
              "      <td>60</td>\n",
              "      <td>110</td>\n",
              "      <td>130</td>\n",
              "      <td>409.1</td>\n",
              "    </tr>\n",
              "    <tr>\n",
              "      <th>1</th>\n",
              "      <td>60</td>\n",
              "      <td>117</td>\n",
              "      <td>145</td>\n",
              "      <td>479.0</td>\n",
              "    </tr>\n",
              "    <tr>\n",
              "      <th>2</th>\n",
              "      <td>60</td>\n",
              "      <td>103</td>\n",
              "      <td>135</td>\n",
              "      <td>340.0</td>\n",
              "    </tr>\n",
              "    <tr>\n",
              "      <th>3</th>\n",
              "      <td>45</td>\n",
              "      <td>109</td>\n",
              "      <td>175</td>\n",
              "      <td>282.4</td>\n",
              "    </tr>\n",
              "    <tr>\n",
              "      <th>4</th>\n",
              "      <td>45</td>\n",
              "      <td>117</td>\n",
              "      <td>148</td>\n",
              "      <td>406.0</td>\n",
              "    </tr>\n",
              "    <tr>\n",
              "      <th>...</th>\n",
              "      <td>...</td>\n",
              "      <td>...</td>\n",
              "      <td>...</td>\n",
              "      <td>...</td>\n",
              "    </tr>\n",
              "    <tr>\n",
              "      <th>164</th>\n",
              "      <td>60</td>\n",
              "      <td>105</td>\n",
              "      <td>140</td>\n",
              "      <td>290.8</td>\n",
              "    </tr>\n",
              "    <tr>\n",
              "      <th>165</th>\n",
              "      <td>60</td>\n",
              "      <td>110</td>\n",
              "      <td>145</td>\n",
              "      <td>300.0</td>\n",
              "    </tr>\n",
              "    <tr>\n",
              "      <th>166</th>\n",
              "      <td>60</td>\n",
              "      <td>115</td>\n",
              "      <td>145</td>\n",
              "      <td>310.2</td>\n",
              "    </tr>\n",
              "    <tr>\n",
              "      <th>167</th>\n",
              "      <td>75</td>\n",
              "      <td>120</td>\n",
              "      <td>150</td>\n",
              "      <td>320.4</td>\n",
              "    </tr>\n",
              "    <tr>\n",
              "      <th>168</th>\n",
              "      <td>75</td>\n",
              "      <td>125</td>\n",
              "      <td>150</td>\n",
              "      <td>330.4</td>\n",
              "    </tr>\n",
              "  </tbody>\n",
              "</table>\n",
              "<p>169 rows × 4 columns</p>\n",
              "</div>"
            ],
            "text/plain": [
              "     Duration  Pulse  Maxpulse  Calories\n",
              "0          60    110       130     409.1\n",
              "1          60    117       145     479.0\n",
              "2          60    103       135     340.0\n",
              "3          45    109       175     282.4\n",
              "4          45    117       148     406.0\n",
              "..        ...    ...       ...       ...\n",
              "164        60    105       140     290.8\n",
              "165        60    110       145     300.0\n",
              "166        60    115       145     310.2\n",
              "167        75    120       150     320.4\n",
              "168        75    125       150     330.4\n",
              "\n",
              "[169 rows x 4 columns]"
            ]
          },
          "metadata": {},
          "execution_count": 4
        }
      ]
    },
    {
      "cell_type": "code",
      "metadata": {
        "colab": {
          "base_uri": "https://localhost:8080/"
        },
        "id": "cHnnZM5SRKlt",
        "outputId": "d3755cf7-afe6-4d31-d385-53174d2f1887"
      },
      "source": [
        "mean = df['Duration'].mean()\n",
        "print(mean)\n",
        "\n",
        "#We can print all the column names\n",
        "print(df.columns)\n",
        "\n",
        "mode = df['Duration'].mode()\n",
        "print(mode)\n",
        "print(f'The mode of the duration column is {mode}')\n",
        "\n",
        "median = df['Pulse'].median()\n",
        "print(f'The mode of the duration column is {median}')\n",
        "\n",
        "print(\"--------------Printing column statistics---------\")\n",
        "for column in df.columns:\n",
        "  median = df[column].median()\n",
        "  print(f'The mode of the {column} column is {median}')\n"
      ],
      "execution_count": 13,
      "outputs": [
        {
          "output_type": "stream",
          "name": "stdout",
          "text": [
            "63.84615384615385\n",
            "Index(['Duration', 'Pulse', 'Maxpulse', 'Calories'], dtype='object')\n",
            "0    60\n",
            "dtype: int64\n",
            "The mode of the duration column is 0    60\n",
            "dtype: int64\n",
            "The mode of the duration column is 105.0\n",
            "--------------Printing column statistics---------\n",
            "The mode of the Duration column is 60.0\n",
            "The mode of the Pulse column is 105.0\n",
            "The mode of the Maxpulse column is 131.0\n",
            "The mode of the Calories column is 318.6\n"
          ]
        }
      ]
    },
    {
      "cell_type": "markdown",
      "metadata": {
        "id": "56MPx5qUTZp6"
      },
      "source": [
        "###Describe Method\n",
        "\n",
        "We can use this method when we want to desribe all the data or a portion of the columns in terms of the count, mean, std, min, max and the quartiles"
      ]
    },
    {
      "cell_type": "code",
      "metadata": {
        "colab": {
          "base_uri": "https://localhost:8080/",
          "height": 295
        },
        "id": "Rj2BZJGNTww5",
        "outputId": "f696e8b4-66d2-41fc-adeb-aaf167bfb121"
      },
      "source": [
        "#We can test all columns\n",
        "df.describe()"
      ],
      "execution_count": 14,
      "outputs": [
        {
          "output_type": "execute_result",
          "data": {
            "text/html": [
              "<div>\n",
              "<style scoped>\n",
              "    .dataframe tbody tr th:only-of-type {\n",
              "        vertical-align: middle;\n",
              "    }\n",
              "\n",
              "    .dataframe tbody tr th {\n",
              "        vertical-align: top;\n",
              "    }\n",
              "\n",
              "    .dataframe thead th {\n",
              "        text-align: right;\n",
              "    }\n",
              "</style>\n",
              "<table border=\"1\" class=\"dataframe\">\n",
              "  <thead>\n",
              "    <tr style=\"text-align: right;\">\n",
              "      <th></th>\n",
              "      <th>Duration</th>\n",
              "      <th>Pulse</th>\n",
              "      <th>Maxpulse</th>\n",
              "      <th>Calories</th>\n",
              "    </tr>\n",
              "  </thead>\n",
              "  <tbody>\n",
              "    <tr>\n",
              "      <th>count</th>\n",
              "      <td>169.000000</td>\n",
              "      <td>169.000000</td>\n",
              "      <td>169.000000</td>\n",
              "      <td>164.000000</td>\n",
              "    </tr>\n",
              "    <tr>\n",
              "      <th>mean</th>\n",
              "      <td>63.846154</td>\n",
              "      <td>107.461538</td>\n",
              "      <td>134.047337</td>\n",
              "      <td>375.790244</td>\n",
              "    </tr>\n",
              "    <tr>\n",
              "      <th>std</th>\n",
              "      <td>42.299949</td>\n",
              "      <td>14.510259</td>\n",
              "      <td>16.450434</td>\n",
              "      <td>266.379919</td>\n",
              "    </tr>\n",
              "    <tr>\n",
              "      <th>min</th>\n",
              "      <td>15.000000</td>\n",
              "      <td>80.000000</td>\n",
              "      <td>100.000000</td>\n",
              "      <td>50.300000</td>\n",
              "    </tr>\n",
              "    <tr>\n",
              "      <th>25%</th>\n",
              "      <td>45.000000</td>\n",
              "      <td>100.000000</td>\n",
              "      <td>124.000000</td>\n",
              "      <td>250.925000</td>\n",
              "    </tr>\n",
              "    <tr>\n",
              "      <th>50%</th>\n",
              "      <td>60.000000</td>\n",
              "      <td>105.000000</td>\n",
              "      <td>131.000000</td>\n",
              "      <td>318.600000</td>\n",
              "    </tr>\n",
              "    <tr>\n",
              "      <th>75%</th>\n",
              "      <td>60.000000</td>\n",
              "      <td>111.000000</td>\n",
              "      <td>141.000000</td>\n",
              "      <td>387.600000</td>\n",
              "    </tr>\n",
              "    <tr>\n",
              "      <th>max</th>\n",
              "      <td>300.000000</td>\n",
              "      <td>159.000000</td>\n",
              "      <td>184.000000</td>\n",
              "      <td>1860.400000</td>\n",
              "    </tr>\n",
              "  </tbody>\n",
              "</table>\n",
              "</div>"
            ],
            "text/plain": [
              "         Duration       Pulse    Maxpulse     Calories\n",
              "count  169.000000  169.000000  169.000000   164.000000\n",
              "mean    63.846154  107.461538  134.047337   375.790244\n",
              "std     42.299949   14.510259   16.450434   266.379919\n",
              "min     15.000000   80.000000  100.000000    50.300000\n",
              "25%     45.000000  100.000000  124.000000   250.925000\n",
              "50%     60.000000  105.000000  131.000000   318.600000\n",
              "75%     60.000000  111.000000  141.000000   387.600000\n",
              "max    300.000000  159.000000  184.000000  1860.400000"
            ]
          },
          "metadata": {},
          "execution_count": 14
        }
      ]
    },
    {
      "cell_type": "code",
      "metadata": {
        "colab": {
          "base_uri": "https://localhost:8080/",
          "height": 295
        },
        "id": "wfDBqtIJT1g6",
        "outputId": "8662d0f6-74b0-4120-9382-8b557a457307"
      },
      "source": [
        "#We can also test a specific column or columns in a list format\n",
        "df[['Duration','Pulse']].describe()"
      ],
      "execution_count": 15,
      "outputs": [
        {
          "output_type": "execute_result",
          "data": {
            "text/html": [
              "<div>\n",
              "<style scoped>\n",
              "    .dataframe tbody tr th:only-of-type {\n",
              "        vertical-align: middle;\n",
              "    }\n",
              "\n",
              "    .dataframe tbody tr th {\n",
              "        vertical-align: top;\n",
              "    }\n",
              "\n",
              "    .dataframe thead th {\n",
              "        text-align: right;\n",
              "    }\n",
              "</style>\n",
              "<table border=\"1\" class=\"dataframe\">\n",
              "  <thead>\n",
              "    <tr style=\"text-align: right;\">\n",
              "      <th></th>\n",
              "      <th>Duration</th>\n",
              "      <th>Pulse</th>\n",
              "    </tr>\n",
              "  </thead>\n",
              "  <tbody>\n",
              "    <tr>\n",
              "      <th>count</th>\n",
              "      <td>169.000000</td>\n",
              "      <td>169.000000</td>\n",
              "    </tr>\n",
              "    <tr>\n",
              "      <th>mean</th>\n",
              "      <td>63.846154</td>\n",
              "      <td>107.461538</td>\n",
              "    </tr>\n",
              "    <tr>\n",
              "      <th>std</th>\n",
              "      <td>42.299949</td>\n",
              "      <td>14.510259</td>\n",
              "    </tr>\n",
              "    <tr>\n",
              "      <th>min</th>\n",
              "      <td>15.000000</td>\n",
              "      <td>80.000000</td>\n",
              "    </tr>\n",
              "    <tr>\n",
              "      <th>25%</th>\n",
              "      <td>45.000000</td>\n",
              "      <td>100.000000</td>\n",
              "    </tr>\n",
              "    <tr>\n",
              "      <th>50%</th>\n",
              "      <td>60.000000</td>\n",
              "      <td>105.000000</td>\n",
              "    </tr>\n",
              "    <tr>\n",
              "      <th>75%</th>\n",
              "      <td>60.000000</td>\n",
              "      <td>111.000000</td>\n",
              "    </tr>\n",
              "    <tr>\n",
              "      <th>max</th>\n",
              "      <td>300.000000</td>\n",
              "      <td>159.000000</td>\n",
              "    </tr>\n",
              "  </tbody>\n",
              "</table>\n",
              "</div>"
            ],
            "text/plain": [
              "         Duration       Pulse\n",
              "count  169.000000  169.000000\n",
              "mean    63.846154  107.461538\n",
              "std     42.299949   14.510259\n",
              "min     15.000000   80.000000\n",
              "25%     45.000000  100.000000\n",
              "50%     60.000000  105.000000\n",
              "75%     60.000000  111.000000\n",
              "max    300.000000  159.000000"
            ]
          },
          "metadata": {},
          "execution_count": 15
        }
      ]
    },
    {
      "cell_type": "markdown",
      "metadata": {
        "id": "LYRBy0zuUH8N"
      },
      "source": [
        "###Aggregate Method\n",
        "\n",
        "We can use this one when we dont want all the stats in the describe but only a couple and just like before we can use a list with the specific stats we are looking for and a dictionary where the keys are the column names we want\n"
      ]
    },
    {
      "cell_type": "code",
      "metadata": {
        "colab": {
          "base_uri": "https://localhost:8080/",
          "height": 142
        },
        "id": "CAyv_bpjUdrT",
        "outputId": "f4e7b51b-0225-4a07-80a5-5d0f809e403d"
      },
      "source": [
        "#Here the agg takes as an argument a dictionary made up of the column \n",
        "#names along with sample statistics we want to find\n",
        "df.agg(\n",
        "    {\n",
        "      'Duration': ['max','min','mean'],\n",
        "      'Maxpulse': ['max','min','mean']\n",
        "    }\n",
        ")"
      ],
      "execution_count": 17,
      "outputs": [
        {
          "output_type": "execute_result",
          "data": {
            "text/html": [
              "<div>\n",
              "<style scoped>\n",
              "    .dataframe tbody tr th:only-of-type {\n",
              "        vertical-align: middle;\n",
              "    }\n",
              "\n",
              "    .dataframe tbody tr th {\n",
              "        vertical-align: top;\n",
              "    }\n",
              "\n",
              "    .dataframe thead th {\n",
              "        text-align: right;\n",
              "    }\n",
              "</style>\n",
              "<table border=\"1\" class=\"dataframe\">\n",
              "  <thead>\n",
              "    <tr style=\"text-align: right;\">\n",
              "      <th></th>\n",
              "      <th>Duration</th>\n",
              "      <th>Maxpulse</th>\n",
              "    </tr>\n",
              "  </thead>\n",
              "  <tbody>\n",
              "    <tr>\n",
              "      <th>max</th>\n",
              "      <td>300.000000</td>\n",
              "      <td>184.000000</td>\n",
              "    </tr>\n",
              "    <tr>\n",
              "      <th>min</th>\n",
              "      <td>15.000000</td>\n",
              "      <td>100.000000</td>\n",
              "    </tr>\n",
              "    <tr>\n",
              "      <th>mean</th>\n",
              "      <td>63.846154</td>\n",
              "      <td>134.047337</td>\n",
              "    </tr>\n",
              "  </tbody>\n",
              "</table>\n",
              "</div>"
            ],
            "text/plain": [
              "        Duration    Maxpulse\n",
              "max   300.000000  184.000000\n",
              "min    15.000000  100.000000\n",
              "mean   63.846154  134.047337"
            ]
          },
          "metadata": {},
          "execution_count": 17
        }
      ]
    },
    {
      "cell_type": "markdown",
      "metadata": {
        "id": "pFcMqewAVYnG"
      },
      "source": [
        "###Cumulative Sum\n",
        "\n",
        "We can get the whole dataset but counting the values before it, almost like a fibonacci sequence"
      ]
    },
    {
      "cell_type": "code",
      "metadata": {
        "colab": {
          "base_uri": "https://localhost:8080/",
          "height": 417
        },
        "id": "b3WwVoPsViqz",
        "outputId": "82cd738c-290e-427e-e870-67c93125cd05"
      },
      "source": [
        "#We can get the whole dataset with its cum sum\n",
        "df.cumsum()\n",
        "\n",
        "#Or we can get a specific column\n",
        "#df['Calories'].cumsum()"
      ],
      "execution_count": 21,
      "outputs": [
        {
          "output_type": "execute_result",
          "data": {
            "text/html": [
              "<div>\n",
              "<style scoped>\n",
              "    .dataframe tbody tr th:only-of-type {\n",
              "        vertical-align: middle;\n",
              "    }\n",
              "\n",
              "    .dataframe tbody tr th {\n",
              "        vertical-align: top;\n",
              "    }\n",
              "\n",
              "    .dataframe thead th {\n",
              "        text-align: right;\n",
              "    }\n",
              "</style>\n",
              "<table border=\"1\" class=\"dataframe\">\n",
              "  <thead>\n",
              "    <tr style=\"text-align: right;\">\n",
              "      <th></th>\n",
              "      <th>Duration</th>\n",
              "      <th>Pulse</th>\n",
              "      <th>Maxpulse</th>\n",
              "      <th>Calories</th>\n",
              "    </tr>\n",
              "  </thead>\n",
              "  <tbody>\n",
              "    <tr>\n",
              "      <th>0</th>\n",
              "      <td>60</td>\n",
              "      <td>110</td>\n",
              "      <td>130</td>\n",
              "      <td>409.1</td>\n",
              "    </tr>\n",
              "    <tr>\n",
              "      <th>1</th>\n",
              "      <td>120</td>\n",
              "      <td>227</td>\n",
              "      <td>275</td>\n",
              "      <td>888.1</td>\n",
              "    </tr>\n",
              "    <tr>\n",
              "      <th>2</th>\n",
              "      <td>180</td>\n",
              "      <td>330</td>\n",
              "      <td>410</td>\n",
              "      <td>1228.1</td>\n",
              "    </tr>\n",
              "    <tr>\n",
              "      <th>3</th>\n",
              "      <td>225</td>\n",
              "      <td>439</td>\n",
              "      <td>585</td>\n",
              "      <td>1510.5</td>\n",
              "    </tr>\n",
              "    <tr>\n",
              "      <th>4</th>\n",
              "      <td>270</td>\n",
              "      <td>556</td>\n",
              "      <td>733</td>\n",
              "      <td>1916.5</td>\n",
              "    </tr>\n",
              "    <tr>\n",
              "      <th>...</th>\n",
              "      <td>...</td>\n",
              "      <td>...</td>\n",
              "      <td>...</td>\n",
              "      <td>...</td>\n",
              "    </tr>\n",
              "    <tr>\n",
              "      <th>164</th>\n",
              "      <td>10520</td>\n",
              "      <td>17691</td>\n",
              "      <td>22064</td>\n",
              "      <td>60368.6</td>\n",
              "    </tr>\n",
              "    <tr>\n",
              "      <th>165</th>\n",
              "      <td>10580</td>\n",
              "      <td>17801</td>\n",
              "      <td>22209</td>\n",
              "      <td>60668.6</td>\n",
              "    </tr>\n",
              "    <tr>\n",
              "      <th>166</th>\n",
              "      <td>10640</td>\n",
              "      <td>17916</td>\n",
              "      <td>22354</td>\n",
              "      <td>60978.8</td>\n",
              "    </tr>\n",
              "    <tr>\n",
              "      <th>167</th>\n",
              "      <td>10715</td>\n",
              "      <td>18036</td>\n",
              "      <td>22504</td>\n",
              "      <td>61299.2</td>\n",
              "    </tr>\n",
              "    <tr>\n",
              "      <th>168</th>\n",
              "      <td>10790</td>\n",
              "      <td>18161</td>\n",
              "      <td>22654</td>\n",
              "      <td>61629.6</td>\n",
              "    </tr>\n",
              "  </tbody>\n",
              "</table>\n",
              "<p>169 rows × 4 columns</p>\n",
              "</div>"
            ],
            "text/plain": [
              "     Duration  Pulse  Maxpulse  Calories\n",
              "0          60    110       130     409.1\n",
              "1         120    227       275     888.1\n",
              "2         180    330       410    1228.1\n",
              "3         225    439       585    1510.5\n",
              "4         270    556       733    1916.5\n",
              "..        ...    ...       ...       ...\n",
              "164     10520  17691     22064   60368.6\n",
              "165     10580  17801     22209   60668.6\n",
              "166     10640  17916     22354   60978.8\n",
              "167     10715  18036     22504   61299.2\n",
              "168     10790  18161     22654   61629.6\n",
              "\n",
              "[169 rows x 4 columns]"
            ]
          },
          "metadata": {},
          "execution_count": 21
        }
      ]
    }
  ]
}